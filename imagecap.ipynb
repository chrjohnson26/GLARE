{
 "cells": [
  {
   "cell_type": "code",
   "execution_count": 222,
   "metadata": {},
   "outputs": [],
   "source": [
    "import numpy as np\n",
    "from PIL import ImageGrab, Image\n",
    "%matplotlib inline\n",
    "import matplotlib.pyplot as plt\n",
    "import rasterio\n",
    "import matplotlib.image as mpimg\n",
    "from rasterio.plot import show\n"
   ]
  },
  {
   "cell_type": "code",
   "execution_count": 223,
   "metadata": {},
   "outputs": [],
   "source": [
    "# importing libraries\n",
    "\n",
    "import pyautogui\n",
    "import time\n",
    "\n",
    "# initializing variables for image processing\n",
    "\n",
    "screenshot = pyautogui.screenshot()\n",
    "\n",
    "# specifiying the path to save the image\n",
    "# matthew macbook m2 air dimensions 2560 x 1664"
   ]
  },
  {
   "cell_type": "code",
   "execution_count": 224,
   "metadata": {},
   "outputs": [
    {
     "name": "stderr",
     "output_type": "stream",
     "text": [
      "[ WARN:0@48532.165] global loadsave.cpp:248 findDecoder imread_('/Users/christianjohnson/Downloads/Glare/testPylonImages/Basler_acA1300-200um__24681880__20240430_200842309_00100.tiff'): can't open/read file: check file path/integrity\n"
     ]
    }
   ],
   "source": [
    "# Conversion of images to video\n",
    "\n",
    "import cv2\n",
    "import os\n",
    "\n",
    "folder_size = 123\n",
    "\n",
    "\n",
    "def images_to_video(image_folder, video_name, fps):\n",
    "    #images = [img for img in os.listdir(image_folder) if img.endswith(\".tiff\")]\n",
    "    start = 17\n",
    "    end = folder_size+17\n",
    "    images = []\n",
    "    for i in range(start, end):\n",
    "        if i > 100:\n",
    "            name=\"/Users/christianjohnson/Downloads/Glare/testPylonImages/Basler_acA1300-200um__24681880__20240430_200842309_0\"\n",
    "        else:\n",
    "            name=\"/Users/christianjohnson/Downloads/Glare/testPylonImages/Basler_acA1300-200um__24681880__20240430_200842309_00\"\n",
    "        name+=str(i)\n",
    "        name+=\".tiff\"\n",
    "        #print(name)\n",
    "        images.append(name)\n",
    "        \n",
    "    frame = cv2.imread(os.path.join(image_folder, images[0]))\n",
    "    height, width, layers = frame.shape\n",
    "    video = cv2.VideoWriter(video_name, cv2.VideoWriter_fourcc(*'mp4v'), fps, (width, height))\n",
    "\n",
    "    for image in images:\n",
    "        video.write(cv2.imread(os.path.join(image_folder, image)))\n",
    "\n",
    "    cv2.destroyAllWindows()\n",
    "    video.release()\n",
    "\n",
    "# Provide the path to the folder containing images, desired output video name, and frame rate\n",
    "image_folder = '/Users/christianjohnson/Downloads/Glare/testPylonImages'\n",
    "video_name = 'demoGLARE.mp4'\n",
    "fps = 1  # Adjust the frame rate as per your requirement\n",
    "\n",
    "images_to_video(image_folder, video_name, fps)"
   ]
  },
  {
   "cell_type": "code",
   "execution_count": 256,
   "metadata": {},
   "outputs": [],
   "source": [
    "\"\"\"\n",
    "    universal_blocking takes an array of of any shape and a jump value. \n",
    "    It then finds the maximum average value of a block of size jump x jump\n",
    "\"\"\"\n",
    "def universal_blocking(array, jump):\n",
    "    # Deriving the array demensions then trimming for ease of indexing\n",
    "    r, c = array.shape\n",
    "    r -= r%jump\n",
    "    c -= c%jump\n",
    "    array = array/255.\n",
    "    #print(array.shape)\n",
    "    ar1 = np.arange(0,r-1, jump)\n",
    "    ar2 = np.arange(0,c-1, jump)\n",
    "    max_value = 0.\n",
    "    coord = ()\n",
    "\n",
    "\n",
    "\n",
    "\n",
    "    for i in ar1:\n",
    "        for j in ar2:\n",
    "            b_sum = 0\n",
    "            for i2 in range(jump):\n",
    "                for j2 in range(jump):\n",
    "                    #print(i+i2, j+j2)\n",
    "                    b_sum += array[i+i2][j+j2]\n",
    "            current_average = b_sum/(jump^2)\n",
    "            if(current_average > max_value):\n",
    "                #print(current_average, (i, j))\n",
    "                max_value = current_average\n",
    "                coord=(i,j)\n",
    "    return coord\n",
    "\n"
   ]
  },
  {
   "cell_type": "code",
   "execution_count": 226,
   "metadata": {},
   "outputs": [
    {
     "ename": "TypeError",
     "evalue": "Can't convert object to 'str' for 'filename'",
     "output_type": "error",
     "traceback": [
      "\u001b[0;31m---------------------------------------------------------------------------\u001b[0m",
      "\u001b[0;31mTypeError\u001b[0m                                 Traceback (most recent call last)",
      "Input \u001b[0;32mIn [226]\u001b[0m, in \u001b[0;36m<cell line: 62>\u001b[0;34m()\u001b[0m\n\u001b[1;32m     54\u001b[0m     images\u001b[38;5;241m.\u001b[39mappend(name)\n\u001b[1;32m     56\u001b[0m \u001b[38;5;66;03m#for tiff_path in images:\u001b[39;00m\n\u001b[1;32m     57\u001b[0m \u001b[38;5;66;03m#    image_save = overlay(tiff_path, 100)\u001b[39;00m\n\u001b[1;32m     58\u001b[0m \u001b[38;5;66;03m#     fname = f\"{tiff_path[:-5]}_overlay.png\"\u001b[39;00m\n\u001b[1;32m     59\u001b[0m \u001b[38;5;66;03m#     cv2.imwrite(fname, image_save)\u001b[39;00m\n\u001b[0;32m---> 62\u001b[0m im_save \u001b[38;5;241m=\u001b[39m \u001b[43moverlay\u001b[49m\u001b[43m(\u001b[49m\u001b[43mimages\u001b[49m\u001b[43m[\u001b[49m\u001b[38;5;241;43m70\u001b[39;49m\u001b[43m]\u001b[49m\u001b[43m,\u001b[49m\u001b[43m \u001b[49m\u001b[38;5;241;43m100\u001b[39;49m\u001b[43m)\u001b[49m\n\u001b[1;32m     63\u001b[0m \u001b[38;5;66;03m# fname = f\"{images[70][:-5]}_overlay.png\"\u001b[39;00m\n\u001b[1;32m     64\u001b[0m \u001b[38;5;66;03m# print(fname)\u001b[39;00m\n\u001b[1;32m     65\u001b[0m \u001b[38;5;66;03m# cv2.imwrite( , im_save)\u001b[39;00m\n\u001b[1;32m     67\u001b[0m pil_image \u001b[38;5;241m=\u001b[39m cv2\u001b[38;5;241m.\u001b[39mimread(images[\u001b[38;5;241m70\u001b[39m], cv2\u001b[38;5;241m.\u001b[39mIMREAD_UNCHANGED)\n",
      "Input \u001b[0;32mIn [226]\u001b[0m, in \u001b[0;36moverlay\u001b[0;34m(tiff_path, jump)\u001b[0m\n\u001b[1;32m     14\u001b[0m pil_image \u001b[38;5;241m=\u001b[39m Image\u001b[38;5;241m.\u001b[39mfromarray(imarray)\n\u001b[1;32m     15\u001b[0m \u001b[38;5;66;03m#imgplot = plt.imshow(im)\u001b[39;00m\n\u001b[0;32m---> 16\u001b[0m display_image \u001b[38;5;241m=\u001b[39m \u001b[43mcv2\u001b[49m\u001b[38;5;241;43m.\u001b[39;49m\u001b[43mimread\u001b[49m\u001b[43m(\u001b[49m\u001b[43mpil_image\u001b[49m\u001b[43m,\u001b[49m\u001b[43m \u001b[49m\u001b[43mcv2\u001b[49m\u001b[38;5;241;43m.\u001b[39;49m\u001b[43mIMREAD_UNCHANGED\u001b[49m\u001b[43m)\u001b[49m\n\u001b[1;32m     18\u001b[0m plt\u001b[38;5;241m.\u001b[39mimshow(display_image,cmap\u001b[38;5;241m=\u001b[39m\u001b[38;5;124m'\u001b[39m\u001b[38;5;124mgray\u001b[39m\u001b[38;5;124m'\u001b[39m)\n\u001b[1;32m     20\u001b[0m im \u001b[38;5;241m=\u001b[39m Image\u001b[38;5;241m.\u001b[39mfromarray(imarray)\n",
      "\u001b[0;31mTypeError\u001b[0m: Can't convert object to 'str' for 'filename'"
     ]
    }
   ],
   "source": [
    "def overlay(tiff_path, jump):   \n",
    "    #im = Image.open(tiff_path,  cv2.IMREAD_UNCHANGED)\n",
    "    im = cv2.imread(tiff_path, cv2.IMREAD_UNCHANGED)\n",
    "\n",
    "    imarray = np.array(im)\n",
    "\n",
    "    coord = universal_blocking(imarray,jump)\n",
    "    #print(coord)\n",
    "    for i in range(jump):\n",
    "        for j in range(jump):\n",
    "            imarray[(coord[0]+i),(coord[1]+j)] = 0\n",
    "    #print(coord)\n",
    "    imarray*=255\n",
    "    pil_image = Image.fromarray(imarray)\n",
    "    #imgplot = plt.imshow(im)\n",
    "    display_image = cv2.imread(pil_image, cv2.IMREAD_UNCHANGED)\n",
    "\n",
    "    plt.imshow(display_image,cmap='gray')\n",
    "\n",
    "    im = Image.fromarray(imarray)\n",
    "\n",
    "\n",
    "    # #inverting the image\n",
    "    # fullArray = np.full(imarray, [255, 255, 255, 0])\n",
    "    # invertedImageArray = abs(fullArray - imarray) \n",
    "    # invertedImageArray = invertedImageArray.astype(np.uint8)\n",
    "\n",
    "    # #displaying the inverted image\n",
    "    # invertedImage = Image.fromarray(invertedImageArray)\n",
    "    # invertedImage.show()\n",
    "\n",
    "\n",
    "\n",
    "\n",
    "    # plt.imshow(im, cmap='gray')\n",
    "    # plt.imshow(im)\n",
    "    #imgplot = cv2.bitwise_not(imgplot)\n",
    "\n",
    "    return imgplot\n",
    "    \n",
    "    \n",
    "\n",
    "        \n",
    "start = 17\n",
    "end = folder_size+17\n",
    "images = []\n",
    "for i in range(start, end):\n",
    "    if i >= 100:\n",
    "        name=\"/Users/christianjohnson/Downloads/Glare/testPylonImages/Basler_acA1300-200um__24681880__20240430_200842309_0\"\n",
    "    else:\n",
    "        name=\"/Users/christianjohnson/Downloads/Glare/testPylonImages/Basler_acA1300-200um__24681880__20240430_200842309_00\"\n",
    "    name+=str(i)\n",
    "    name+=\".tiff\"\n",
    "    images.append(name)\n",
    "\n",
    "#for tiff_path in images:\n",
    "#    image_save = overlay(tiff_path, 100)\n",
    "#     fname = f\"{tiff_path[:-5]}_overlay.png\"\n",
    "#     cv2.imwrite(fname, image_save)\n",
    "\n",
    "\n",
    "im_save = overlay(images[70], 100)\n",
    "# fname = f\"{images[70][:-5]}_overlay.png\"\n",
    "# print(fname)\n",
    "# cv2.imwrite( , im_save)\n",
    "\n",
    "pil_image = cv2.imread(images[70], cv2.IMREAD_UNCHANGED)\n",
    "\n",
    "plt.imshow(pil_image,cmap='gray')\n",
    "print(pil_image.shape)\n",
    "#print(f'dtype: {pil_image.dtype}, shape: {pil_image.shape}, min: {np.min(pil_image)}, max: {np.max(pil_image)}')\n",
    "\n"
   ]
  },
  {
   "cell_type": "code",
   "execution_count": 284,
   "metadata": {},
   "outputs": [
    {
     "name": "stdout",
     "output_type": "stream",
     "text": [
      "['/Users/christianjohnson/Downloads/Glare/GLARE/images/NOutput1.png', '/Users/christianjohnson/Downloads/Glare/GLARE/images/NOutput2.png', '/Users/christianjohnson/Downloads/Glare/GLARE/images/NOutput3.png', '/Users/christianjohnson/Downloads/Glare/GLARE/images/NOutput4.png', '/Users/christianjohnson/Downloads/Glare/GLARE/images/NOutput5.png', '/Users/christianjohnson/Downloads/Glare/GLARE/images/NOutput6.png', '/Users/christianjohnson/Downloads/Glare/GLARE/images/NOutput7.png', '/Users/christianjohnson/Downloads/Glare/GLARE/images/NOutput8.png', '/Users/christianjohnson/Downloads/Glare/GLARE/images/NOutput9.png', '/Users/christianjohnson/Downloads/Glare/GLARE/images/NOutput10.png', '/Users/christianjohnson/Downloads/Glare/GLARE/images/NOutput11.png', '/Users/christianjohnson/Downloads/Glare/GLARE/images/NOutput12.png', '/Users/christianjohnson/Downloads/Glare/GLARE/images/NOutput13.png', '/Users/christianjohnson/Downloads/Glare/GLARE/images/NOutput14.png', '/Users/christianjohnson/Downloads/Glare/GLARE/images/NOutput15.png', '/Users/christianjohnson/Downloads/Glare/GLARE/images/NOutput16.png', '/Users/christianjohnson/Downloads/Glare/GLARE/images/NOutput17.png', '/Users/christianjohnson/Downloads/Glare/GLARE/images/NOutput18.png', '/Users/christianjohnson/Downloads/Glare/GLARE/images/NOutput19.png', '/Users/christianjohnson/Downloads/Glare/GLARE/images/NOutput20.png', '/Users/christianjohnson/Downloads/Glare/GLARE/images/NOutput21.png', '/Users/christianjohnson/Downloads/Glare/GLARE/images/NOutput22.png', '/Users/christianjohnson/Downloads/Glare/GLARE/images/NOutput23.png', '/Users/christianjohnson/Downloads/Glare/GLARE/images/NOutput24.png', '/Users/christianjohnson/Downloads/Glare/GLARE/images/NOutput25.png', '/Users/christianjohnson/Downloads/Glare/GLARE/images/NOutput26.png', '/Users/christianjohnson/Downloads/Glare/GLARE/images/NOutput27.png', '/Users/christianjohnson/Downloads/Glare/GLARE/images/NOutput28.png', '/Users/christianjohnson/Downloads/Glare/GLARE/images/NOutput29.png', '/Users/christianjohnson/Downloads/Glare/GLARE/images/NOutput30.png', '/Users/christianjohnson/Downloads/Glare/GLARE/images/NOutput31.png', '/Users/christianjohnson/Downloads/Glare/GLARE/images/NOutput32.png', '/Users/christianjohnson/Downloads/Glare/GLARE/images/NOutput33.png', '/Users/christianjohnson/Downloads/Glare/GLARE/images/NOutput34.png', '/Users/christianjohnson/Downloads/Glare/GLARE/images/NOutput35.png', '/Users/christianjohnson/Downloads/Glare/GLARE/images/NOutput36.png', '/Users/christianjohnson/Downloads/Glare/GLARE/images/NOutput37.png', '/Users/christianjohnson/Downloads/Glare/GLARE/images/NOutput38.png', '/Users/christianjohnson/Downloads/Glare/GLARE/images/NOutput39.png', '/Users/christianjohnson/Downloads/Glare/GLARE/images/NOutput40.png', '/Users/christianjohnson/Downloads/Glare/GLARE/images/NOutput41.png', '/Users/christianjohnson/Downloads/Glare/GLARE/images/NOutput42.png', '/Users/christianjohnson/Downloads/Glare/GLARE/images/NOutput43.png', '/Users/christianjohnson/Downloads/Glare/GLARE/images/NOutput44.png', '/Users/christianjohnson/Downloads/Glare/GLARE/images/NOutput45.png', '/Users/christianjohnson/Downloads/Glare/GLARE/images/NOutput46.png', '/Users/christianjohnson/Downloads/Glare/GLARE/images/NOutput47.png', '/Users/christianjohnson/Downloads/Glare/GLARE/images/NOutput48.png', '/Users/christianjohnson/Downloads/Glare/GLARE/images/NOutput49.png', '/Users/christianjohnson/Downloads/Glare/GLARE/images/NOutput50.png', '/Users/christianjohnson/Downloads/Glare/GLARE/images/NOutput51.png', '/Users/christianjohnson/Downloads/Glare/GLARE/images/NOutput52.png', '/Users/christianjohnson/Downloads/Glare/GLARE/images/NOutput53.png', '/Users/christianjohnson/Downloads/Glare/GLARE/images/NOutput54.png', '/Users/christianjohnson/Downloads/Glare/GLARE/images/NOutput55.png', '/Users/christianjohnson/Downloads/Glare/GLARE/images/NOutput56.png', '/Users/christianjohnson/Downloads/Glare/GLARE/images/NOutput57.png', '/Users/christianjohnson/Downloads/Glare/GLARE/images/NOutput58.png', '/Users/christianjohnson/Downloads/Glare/GLARE/images/NOutput59.png', '/Users/christianjohnson/Downloads/Glare/GLARE/images/NOutput60.png', '/Users/christianjohnson/Downloads/Glare/GLARE/images/NOutput61.png', '/Users/christianjohnson/Downloads/Glare/GLARE/images/NOutput62.png', '/Users/christianjohnson/Downloads/Glare/GLARE/images/NOutput63.png', '/Users/christianjohnson/Downloads/Glare/GLARE/images/NOutput64.png', '/Users/christianjohnson/Downloads/Glare/GLARE/images/NOutput65.png', '/Users/christianjohnson/Downloads/Glare/GLARE/images/NOutput66.png', '/Users/christianjohnson/Downloads/Glare/GLARE/images/NOutput67.png', '/Users/christianjohnson/Downloads/Glare/GLARE/images/NOutput68.png', '/Users/christianjohnson/Downloads/Glare/GLARE/images/NOutput69.png', '/Users/christianjohnson/Downloads/Glare/GLARE/images/NOutput70.png', '/Users/christianjohnson/Downloads/Glare/GLARE/images/NOutput71.png', '/Users/christianjohnson/Downloads/Glare/GLARE/images/NOutput72.png', '/Users/christianjohnson/Downloads/Glare/GLARE/images/NOutput73.png', '/Users/christianjohnson/Downloads/Glare/GLARE/images/NOutput74.png', '/Users/christianjohnson/Downloads/Glare/GLARE/images/NOutput75.png', '/Users/christianjohnson/Downloads/Glare/GLARE/images/NOutput76.png', '/Users/christianjohnson/Downloads/Glare/GLARE/images/NOutput77.png', '/Users/christianjohnson/Downloads/Glare/GLARE/images/NOutput78.png', '/Users/christianjohnson/Downloads/Glare/GLARE/images/NOutput79.png', '/Users/christianjohnson/Downloads/Glare/GLARE/images/NOutput80.png', '/Users/christianjohnson/Downloads/Glare/GLARE/images/NOutput81.png', '/Users/christianjohnson/Downloads/Glare/GLARE/images/NOutput82.png', '/Users/christianjohnson/Downloads/Glare/GLARE/images/NOutput83.png', '/Users/christianjohnson/Downloads/Glare/GLARE/images/NOutput84.png', '/Users/christianjohnson/Downloads/Glare/GLARE/images/NOutput85.png', '/Users/christianjohnson/Downloads/Glare/GLARE/images/NOutput86.png', '/Users/christianjohnson/Downloads/Glare/GLARE/images/NOutput87.png', '/Users/christianjohnson/Downloads/Glare/GLARE/images/NOutput88.png', '/Users/christianjohnson/Downloads/Glare/GLARE/images/NOutput89.png', '/Users/christianjohnson/Downloads/Glare/GLARE/images/NOutput90.png', '/Users/christianjohnson/Downloads/Glare/GLARE/images/NOutput91.png', '/Users/christianjohnson/Downloads/Glare/GLARE/images/NOutput92.png', '/Users/christianjohnson/Downloads/Glare/GLARE/images/NOutput93.png', '/Users/christianjohnson/Downloads/Glare/GLARE/images/NOutput94.png', '/Users/christianjohnson/Downloads/Glare/GLARE/images/NOutput95.png', '/Users/christianjohnson/Downloads/Glare/GLARE/images/NOutput96.png', '/Users/christianjohnson/Downloads/Glare/GLARE/images/NOutput97.png', '/Users/christianjohnson/Downloads/Glare/GLARE/images/NOutput98.png', '/Users/christianjohnson/Downloads/Glare/GLARE/images/NOutput99.png', '/Users/christianjohnson/Downloads/Glare/GLARE/images/NOutput100.png', '/Users/christianjohnson/Downloads/Glare/GLARE/images/NOutput101.png', '/Users/christianjohnson/Downloads/Glare/GLARE/images/NOutput102.png', '/Users/christianjohnson/Downloads/Glare/GLARE/images/NOutput103.png', '/Users/christianjohnson/Downloads/Glare/GLARE/images/NOutput104.png', '/Users/christianjohnson/Downloads/Glare/GLARE/images/NOutput105.png', '/Users/christianjohnson/Downloads/Glare/GLARE/images/NOutput106.png', '/Users/christianjohnson/Downloads/Glare/GLARE/images/NOutput107.png', '/Users/christianjohnson/Downloads/Glare/GLARE/images/NOutput108.png', '/Users/christianjohnson/Downloads/Glare/GLARE/images/NOutput109.png', '/Users/christianjohnson/Downloads/Glare/GLARE/images/NOutput110.png', '/Users/christianjohnson/Downloads/Glare/GLARE/images/NOutput111.png', '/Users/christianjohnson/Downloads/Glare/GLARE/images/NOutput112.png', '/Users/christianjohnson/Downloads/Glare/GLARE/images/NOutput113.png', '/Users/christianjohnson/Downloads/Glare/GLARE/images/NOutput114.png', '/Users/christianjohnson/Downloads/Glare/GLARE/images/NOutput115.png', '/Users/christianjohnson/Downloads/Glare/GLARE/images/NOutput116.png', '/Users/christianjohnson/Downloads/Glare/GLARE/images/NOutput117.png', '/Users/christianjohnson/Downloads/Glare/GLARE/images/NOutput118.png', '/Users/christianjohnson/Downloads/Glare/GLARE/images/NOutput119.png', '/Users/christianjohnson/Downloads/Glare/GLARE/images/NOutput120.png', '/Users/christianjohnson/Downloads/Glare/GLARE/images/NOutput121.png', '/Users/christianjohnson/Downloads/Glare/GLARE/images/NOutput122.png', '/Users/christianjohnson/Downloads/Glare/GLARE/images/NOutput123.png', '/Users/christianjohnson/Downloads/Glare/GLARE/images/NOutput124.png', '/Users/christianjohnson/Downloads/Glare/GLARE/images/NOutput125.png', '/Users/christianjohnson/Downloads/Glare/GLARE/images/NOutput126.png', '/Users/christianjohnson/Downloads/Glare/GLARE/images/NOutput127.png', '/Users/christianjohnson/Downloads/Glare/GLARE/images/NOutput128.png', '/Users/christianjohnson/Downloads/Glare/GLARE/images/NOutput129.png', '/Users/christianjohnson/Downloads/Glare/GLARE/images/NOutput130.png', '/Users/christianjohnson/Downloads/Glare/GLARE/images/NOutput131.png', '/Users/christianjohnson/Downloads/Glare/GLARE/images/NOutput132.png', '/Users/christianjohnson/Downloads/Glare/GLARE/images/NOutput133.png', '/Users/christianjohnson/Downloads/Glare/GLARE/images/NOutput134.png', '/Users/christianjohnson/Downloads/Glare/GLARE/images/NOutput135.png', '/Users/christianjohnson/Downloads/Glare/GLARE/images/NOutput136.png', '/Users/christianjohnson/Downloads/Glare/GLARE/images/NOutput137.png', '/Users/christianjohnson/Downloads/Glare/GLARE/images/NOutput138.png', '/Users/christianjohnson/Downloads/Glare/GLARE/images/NOutput139.png', '/Users/christianjohnson/Downloads/Glare/GLARE/images/NOutput140.png', '/Users/christianjohnson/Downloads/Glare/GLARE/images/NOutput141.png', '/Users/christianjohnson/Downloads/Glare/GLARE/images/NOutput142.png', '/Users/christianjohnson/Downloads/Glare/GLARE/images/NOutput143.png', '/Users/christianjohnson/Downloads/Glare/GLARE/images/NOutput144.png', '/Users/christianjohnson/Downloads/Glare/GLARE/images/NOutput145.png', '/Users/christianjohnson/Downloads/Glare/GLARE/images/NOutput146.png', '/Users/christianjohnson/Downloads/Glare/GLARE/images/NOutput147.png', '/Users/christianjohnson/Downloads/Glare/GLARE/images/NOutput148.png', '/Users/christianjohnson/Downloads/Glare/GLARE/images/NOutput149.png']\n",
      "here\n",
      "100 200\n"
     ]
    },
    {
     "name": "stderr",
     "output_type": "stream",
     "text": [
      "libpng warning: pHYs: CRC error\n"
     ]
    },
    {
     "data": {
      "image/png": "[encoded data removed]",
      "text/plain": [
       "<Figure size 640x480 with 1 Axes>"
      ]
     },
     "metadata": {},
     "output_type": "display_data"
    },
    {
     "name": "stdout",
     "output_type": "stream",
     "text": [
      "here\n",
      "100 200\n"
     ]
    },
    {
     "name": "stderr",
     "output_type": "stream",
     "text": [
      "libpng warning: pHYs: CRC error\n"
     ]
    },
    {
     "data": {
      "image/png": "[encoded data removed]",
      "text/plain": [
       "<Figure size 640x480 with 1 Axes>"
      ]
     },
     "metadata": {},
     "output_type": "display_data"
    },
    {
     "name": "stdout",
     "output_type": "stream",
     "text": [
      "here\n",
      "100 200\n"
     ]
    },
    {
     "name": "stderr",
     "output_type": "stream",
     "text": [
      "libpng warning: pHYs: CRC error\n"
     ]
    },
    {
     "data": {
      "image/png": "[encoded data removed]",
      "text/plain": [
       "<Figure size 640x480 with 1 Axes>"
      ]
     },
     "metadata": {},
     "output_type": "display_data"
    },
    {
     "name": "stdout",
     "output_type": "stream",
     "text": [
      "here\n",
      "100 200\n"
     ]
    },
    {
     "name": "stderr",
     "output_type": "stream",
     "text": [
      "libpng warning: pHYs: CRC error\n"
     ]
    },
    {
     "data": {
      "image/png": "[encoded data removed]",
      "text/plain": [
       "<Figure size 640x480 with 1 Axes>"
      ]
     },
     "metadata": {},
     "output_type": "display_data"
    },
    {
     "name": "stdout",
     "output_type": "stream",
     "text": [
      "here\n",
      "100 200\n"
     ]
    },
    {
     "name": "stderr",
     "output_type": "stream",
     "text": [
      "libpng warning: pHYs: CRC error\n"
     ]
    },
    {
     "data": {
      "image/png": "[encoded data removed]",
      "text/plain": [
       "<Figure size 640x480 with 1 Axes>"
      ]
     },
     "metadata": {},
     "output_type": "display_data"
    },
    {
     "name": "stdout",
     "output_type": "stream",
     "text": [
      "here\n",
      "100 200\n"
     ]
    },
    {
     "name": "stderr",
     "output_type": "stream",
     "text": [
      "libpng warning: pHYs: CRC error\n"
     ]
    },
    {
     "data": {
      "image/png": "[encoded data removed]",
      "text/plain": [
       "<Figure size 640x480 with 1 Axes>"
      ]
     },
     "metadata": {},
     "output_type": "display_data"
    },
    {
     "name": "stdout",
     "output_type": "stream",
     "text": [
      "here\n",
      "100 200\n"
     ]
    },
    {
     "name": "stderr",
     "output_type": "stream",
     "text": [
      "libpng warning: pHYs: CRC error\n"
     ]
    },
    {
     "data": {
      "image/png": "[encoded data removed]",
      "text/plain": [
       "<Figure size 640x480 with 1 Axes>"
      ]
     },
     "metadata": {},
     "output_type": "display_data"
    },
    {
     "name": "stdout",
     "output_type": "stream",
     "text": [
      "here\n",
      "100 200\n"
     ]
    },
    {
     "name": "stderr",
     "output_type": "stream",
     "text": [
      "libpng warning: pHYs: CRC error\n"
     ]
    },
    {
     "data": {
      "image/png": "[encoded data removed]",
      "text/plain": [
       "<Figure size 640x480 with 1 Axes>"
      ]
     },
     "metadata": {},
     "output_type": "display_data"
    },
    {
     "name": "stdout",
     "output_type": "stream",
     "text": [
      "here\n",
      "100 200\n"
     ]
    },
    {
     "name": "stderr",
     "output_type": "stream",
     "text": [
      "libpng warning: pHYs: CRC error\n"
     ]
    },
    {
     "data": {
      "image/png": "[encoded data removed]",
      "text/plain": [
       "<Figure size 640x480 with 1 Axes>"
      ]
     },
     "metadata": {},
     "output_type": "display_data"
    },
    {
     "name": "stdout",
     "output_type": "stream",
     "text": [
      "here\n"
     ]
    },
    {
     "name": "stderr",
     "output_type": "stream",
     "text": [
      "libpng warning: pHYs: CRC error\n"
     ]
    },
    {
     "name": "stdout",
     "output_type": "stream",
     "text": [
      "100 200\n"
     ]
    },
    {
     "data": {
      "image/png": "[encoded data removed]",
      "text/plain": [
       "<Figure size 640x480 with 1 Axes>"
      ]
     },
     "metadata": {},
     "output_type": "display_data"
    },
    {
     "name": "stdout",
     "output_type": "stream",
     "text": [
      "here\n",
      "100 200\n"
     ]
    },
    {
     "name": "stderr",
     "output_type": "stream",
     "text": [
      "libpng warning: pHYs: CRC error\n"
     ]
    },
    {
     "data": {
      "image/png": "[encoded data removed]",
      "text/plain": [
       "<Figure size 640x480 with 1 Axes>"
      ]
     },
     "metadata": {},
     "output_type": "display_data"
    },
    {
     "name": "stdout",
     "output_type": "stream",
     "text": [
      "here\n"
     ]
    },
    {
     "name": "stderr",
     "output_type": "stream",
     "text": [
      "libpng warning: pHYs: CRC error\n"
     ]
    },
    {
     "name": "stdout",
     "output_type": "stream",
     "text": [
      "100 200\n"
     ]
    },
    {
     "data": {
      "image/png": "[encoded data removed]",
      "text/plain": [
       "<Figure size 640x480 with 1 Axes>"
      ]
     },
     "metadata": {},
     "output_type": "display_data"
    },
    {
     "name": "stdout",
     "output_type": "stream",
     "text": [
      "here\n",
      "100 200\n"
     ]
    },
    {
     "name": "stderr",
     "output_type": "stream",
     "text": [
      "libpng warning: pHYs: CRC error\n"
     ]
    },
    {
     "data": {
      "image/png": "[encoded data removed]",
      "text/plain": [
       "<Figure size 640x480 with 1 Axes>"
      ]
     },
     "metadata": {},
     "output_type": "display_data"
    },
    {
     "name": "stdout",
     "output_type": "stream",
     "text": [
      "here\n",
      "100 200\n"
     ]
    },
    {
     "name": "stderr",
     "output_type": "stream",
     "text": [
      "libpng warning: pHYs: CRC error\n"
     ]
    },
    {
     "data": {
      "image/png": "[encoded data removed]",
      "text/plain": [
       "<Figure size 640x480 with 1 Axes>"
      ]
     },
     "metadata": {},
     "output_type": "display_data"
    },
    {
     "name": "stdout",
     "output_type": "stream",
     "text": [
      "here\n",
      "100 200\n"
     ]
    },
    {
     "name": "stderr",
     "output_type": "stream",
     "text": [
      "libpng warning: pHYs: CRC error\n"
     ]
    },
    {
     "data": {
      "image/png": "[encoded data removed]",
      "text/plain": [
       "<Figure size 640x480 with 1 Axes>"
      ]
     },
     "metadata": {},
     "output_type": "display_data"
    },
    {
     "name": "stdout",
     "output_type": "stream",
     "text": [
      "here\n",
      "100 200\n"
     ]
    },
    {
     "name": "stderr",
     "output_type": "stream",
     "text": [
      "libpng warning: pHYs: CRC error\n"
     ]
    },
    {
     "data": {
      "image/png": "[encoded data removed]",
      "text/plain": [
       "<Figure size 640x480 with 1 Axes>"
      ]
     },
     "metadata": {},
     "output_type": "display_data"
    },
    {
     "name": "stdout",
     "output_type": "stream",
     "text": [
      "here\n",
      "100 200\n"
     ]
    },
    {
     "name": "stderr",
     "output_type": "stream",
     "text": [
      "libpng warning: pHYs: CRC error\n"
     ]
    },
    {
     "data": {
      "image/png": "[encoded data removed]",
      "text/plain": [
       "<Figure size 640x480 with 1 Axes>"
      ]
     },
     "metadata": {},
     "output_type": "display_data"
    },
    {
     "name": "stdout",
     "output_type": "stream",
     "text": [
      "here\n",
      "100 200\n"
     ]
    },
    {
     "name": "stderr",
     "output_type": "stream",
     "text": [
      "libpng warning: pHYs: CRC error\n"
     ]
    },
    {
     "data": {
      "image/png": "[encoded data removed]",
      "text/plain": [
       "<Figure size 640x480 with 1 Axes>"
      ]
     },
     "metadata": {},
     "output_type": "display_data"
    },
    {
     "name": "stdout",
     "output_type": "stream",
     "text": [
      "here\n"
     ]
    },
    {
     "name": "stderr",
     "output_type": "stream",
     "text": [
      "libpng warning: pHYs: CRC error\n"
     ]
    },
    {
     "name": "stdout",
     "output_type": "stream",
     "text": [
      "100 200\n"
     ]
    },
    {
     "data": {
      "image/png": "[encoded data removed]",
      "text/plain": [
       "<Figure size 640x480 with 1 Axes>"
      ]
     },
     "metadata": {},
     "output_type": "display_data"
    },
    {
     "name": "stdout",
     "output_type": "stream",
     "text": [
      "here\n",
      "100 200\n"
     ]
    },
    {
     "name": "stderr",
     "output_type": "stream",
     "text": [
      "libpng warning: pHYs: CRC error\n"
     ]
    },
    {
     "data": {
      "image/png": "[encoded data removed]",
      "text/plain": [
       "<Figure size 640x480 with 1 Axes>"
      ]
     },
     "metadata": {},
     "output_type": "display_data"
    },
    {
     "name": "stdout",
     "output_type": "stream",
     "text": [
      "here\n",
      "100 200\n"
     ]
    },
    {
     "name": "stderr",
     "output_type": "stream",
     "text": [
      "libpng warning: pHYs: CRC error\n"
     ]
    },
    {
     "data": {
      "image/png": "[encoded data removed]",
      "text/plain": [
       "<Figure size 640x480 with 1 Axes>"
      ]
     },
     "metadata": {},
     "output_type": "display_data"
    },
    {
     "name": "stdout",
     "output_type": "stream",
     "text": [
      "here\n",
      "100 200\n"
     ]
    },
    {
     "name": "stderr",
     "output_type": "stream",
     "text": [
      "libpng warning: pHYs: CRC error\n"
     ]
    },
    {
     "data": {
      "image/png": "[encoded data removed]",
      "text/plain": [
       "<Figure size 640x480 with 1 Axes>"
      ]
     },
     "metadata": {},
     "output_type": "display_data"
    },
    {
     "name": "stdout",
     "output_type": "stream",
     "text": [
      "here\n",
      "100 200\n"
     ]
    },
    {
     "name": "stderr",
     "output_type": "stream",
     "text": [
      "libpng warning: pHYs: CRC error\n"
     ]
    },
    {
     "data": {
      "image/png": "[encoded data removed]",
      "text/plain": [
       "<Figure size 640x480 with 1 Axes>"
      ]
     },
     "metadata": {},
     "output_type": "display_data"
    },
    {
     "name": "stdout",
     "output_type": "stream",
     "text": [
      "here\n",
      "100 200\n"
     ]
    },
    {
     "name": "stderr",
     "output_type": "stream",
     "text": [
      "libpng warning: pHYs: CRC error\n"
     ]
    },
    {
     "data": {
      "image/png": "[encoded data removed]",
      "text/plain": [
       "<Figure size 640x480 with 1 Axes>"
      ]
     },
     "metadata": {},
     "output_type": "display_data"
    },
    {
     "name": "stdout",
     "output_type": "stream",
     "text": [
      "here\n",
      "100 200\n"
     ]
    },
    {
     "name": "stderr",
     "output_type": "stream",
     "text": [
      "libpng warning: pHYs: CRC error\n"
     ]
    },
    {
     "data": {
      "image/png": "[encoded data removed]",
      "text/plain": [
       "<Figure size 640x480 with 1 Axes>"
      ]
     },
     "metadata": {},
     "output_type": "display_data"
    },
    {
     "name": "stdout",
     "output_type": "stream",
     "text": [
      "here\n",
      "100 200\n"
     ]
    },
    {
     "name": "stderr",
     "output_type": "stream",
     "text": [
      "libpng warning: pHYs: CRC error\n"
     ]
    },
    {
     "data": {
      "image/png": "[encoded data removed]",
      "text/plain": [
       "<Figure size 640x480 with 1 Axes>"
      ]
     },
     "metadata": {},
     "output_type": "display_data"
    },
    {
     "name": "stdout",
     "output_type": "stream",
     "text": [
      "here\n",
      "100 200\n"
     ]
    },
    {
     "name": "stderr",
     "output_type": "stream",
     "text": [
      "libpng warning: pHYs: CRC error\n"
     ]
    },
    {
     "data": {
      "image/png": "[encoded data removed]",
      "text/plain": [
       "<Figure size 640x480 with 1 Axes>"
      ]
     },
     "metadata": {},
     "output_type": "display_data"
    },
    {
     "name": "stdout",
     "output_type": "stream",
     "text": [
      "here\n",
      "100 200\n"
     ]
    },
    {
     "name": "stderr",
     "output_type": "stream",
     "text": [
      "libpng warning: pHYs: CRC error\n"
     ]
    },
    {
     "data": {
      "image/png": "[encoded data removed]",
      "text/plain": [
       "<Figure size 640x480 with 1 Axes>"
      ]
     },
     "metadata": {},
     "output_type": "display_data"
    },
    {
     "name": "stdout",
     "output_type": "stream",
     "text": [
      "here\n",
      "100 200\n"
     ]
    },
    {
     "name": "stderr",
     "output_type": "stream",
     "text": [
      "libpng warning: pHYs: CRC error\n"
     ]
    },
    {
     "data": {
      "image/png": "[encoded data removed]",
      "text/plain": [
       "<Figure size 640x480 with 1 Axes>"
      ]
     },
     "metadata": {},
     "output_type": "display_data"
    },
    {
     "name": "stdout",
     "output_type": "stream",
     "text": [
      "here\n",
      "100 200\n"
     ]
    },
    {
     "name": "stderr",
     "output_type": "stream",
     "text": [
      "libpng warning: pHYs: CRC error\n"
     ]
    },
    {
     "data": {
      "image/png": "[encoded data removed]",
      "text/plain": [
       "<Figure size 640x480 with 1 Axes>"
      ]
     },
     "metadata": {},
     "output_type": "display_data"
    },
    {
     "name": "stdout",
     "output_type": "stream",
     "text": [
      "here\n",
      "100 200\n"
     ]
    },
    {
     "name": "stderr",
     "output_type": "stream",
     "text": [
      "libpng warning: pHYs: CRC error\n"
     ]
    },
    {
     "data": {
      "image/png": "[encoded data removed]",
      "text/plain": [
       "<Figure size 640x480 with 1 Axes>"
      ]
     },
     "metadata": {},
     "output_type": "display_data"
    },
    {
     "name": "stdout",
     "output_type": "stream",
     "text": [
      "here\n",
      "100 200\n"
     ]
    },
    {
     "name": "stderr",
     "output_type": "stream",
     "text": [
      "libpng warning: pHYs: CRC error\n"
     ]
    },
    {
     "data": {
      "image/png": "[encoded data removed]",
      "text/plain": [
       "<Figure size 640x480 with 1 Axes>"
      ]
     },
     "metadata": {},
     "output_type": "display_data"
    },
    {
     "name": "stdout",
     "output_type": "stream",
     "text": [
      "here\n"
     ]
    },
    {
     "name": "stderr",
     "output_type": "stream",
     "text": [
      "libpng warning: pHYs: CRC error\n"
     ]
    },
    {
     "name": "stdout",
     "output_type": "stream",
     "text": [
      "100 200\n"
     ]
    },
    {
     "data": {
      "image/png": "[encoded data removed]",
      "text/plain": [
       "<Figure size 640x480 with 1 Axes>"
      ]
     },
     "metadata": {},
     "output_type": "display_data"
    },
    {
     "name": "stdout",
     "output_type": "stream",
     "text": [
      "here\n",
      "100 200\n"
     ]
    },
    {
     "name": "stderr",
     "output_type": "stream",
     "text": [
      "libpng warning: pHYs: CRC error\n"
     ]
    },
    {
     "data": {
      "image/png": "[encoded data removed]",
      "text/plain": [
       "<Figure size 640x480 with 1 Axes>"
      ]
     },
     "metadata": {},
     "output_type": "display_data"
    },
    {
     "name": "stdout",
     "output_type": "stream",
     "text": [
      "here\n",
      "100 200\n"
     ]
    },
    {
     "name": "stderr",
     "output_type": "stream",
     "text": [
      "libpng warning: pHYs: CRC error\n"
     ]
    },
    {
     "data": {
      "image/png": "[encoded data removed]",
      "text/plain": [
       "<Figure size 640x480 with 1 Axes>"
      ]
     },
     "metadata": {},
     "output_type": "display_data"
    },
    {
     "name": "stdout",
     "output_type": "stream",
     "text": [
      "here\n",
      "100 200\n"
     ]
    },
    {
     "name": "stderr",
     "output_type": "stream",
     "text": [
      "libpng warning: pHYs: CRC error\n"
     ]
    },
    {
     "data": {
      "image/png": "[encoded data removed]",
      "text/plain": [
       "<Figure size 640x480 with 1 Axes>"
      ]
     },
     "metadata": {},
     "output_type": "display_data"
    },
    {
     "name": "stdout",
     "output_type": "stream",
     "text": [
      "here\n",
      "100 200\n"
     ]
    },
    {
     "name": "stderr",
     "output_type": "stream",
     "text": [
      "libpng warning: pHYs: CRC error\n"
     ]
    },
    {
     "data": {
      "image/png": "[encoded data removed]",
      "text/plain": [
       "<Figure size 640x480 with 1 Axes>"
      ]
     },
     "metadata": {},
     "output_type": "display_data"
    },
    {
     "name": "stdout",
     "output_type": "stream",
     "text": [
      "here\n",
      "100 200\n"
     ]
    },
    {
     "name": "stderr",
     "output_type": "stream",
     "text": [
      "libpng warning: pHYs: CRC error\n"
     ]
    },
    {
     "data": {
      "image/png": "[encoded data removed]",
      "text/plain": [
       "<Figure size 640x480 with 1 Axes>"
      ]
     },
     "metadata": {},
     "output_type": "display_data"
    },
    {
     "name": "stdout",
     "output_type": "stream",
     "text": [
      "here\n",
      "100 200\n"
     ]
    },
    {
     "name": "stderr",
     "output_type": "stream",
     "text": [
      "libpng warning: pHYs: CRC error\n"
     ]
    },
    {
     "data": {
      "image/png": "[encoded data removed]",
      "text/plain": [
       "<Figure size 640x480 with 1 Axes>"
      ]
     },
     "metadata": {},
     "output_type": "display_data"
    },
    {
     "name": "stdout",
     "output_type": "stream",
     "text": [
      "here\n",
      "100 200\n"
     ]
    },
    {
     "name": "stderr",
     "output_type": "stream",
     "text": [
      "libpng warning: pHYs: CRC error\n"
     ]
    },
    {
     "data": {
      "image/png": "[encoded data removed]",
      "text/plain": [
       "<Figure size 640x480 with 1 Axes>"
      ]
     },
     "metadata": {},
     "output_type": "display_data"
    },
    {
     "name": "stdout",
     "output_type": "stream",
     "text": [
      "here\n",
      "100 200\n"
     ]
    },
    {
     "name": "stderr",
     "output_type": "stream",
     "text": [
      "libpng warning: pHYs: CRC error\n"
     ]
    },
    {
     "data": {
      "image/png": "[encoded data removed]",
      "text/plain": [
       "<Figure size 640x480 with 1 Axes>"
      ]
     },
     "metadata": {},
     "output_type": "display_data"
    },
    {
     "name": "stdout",
     "output_type": "stream",
     "text": [
      "here\n",
      "100 200\n"
     ]
    },
    {
     "name": "stderr",
     "output_type": "stream",
     "text": [
      "libpng warning: pHYs: CRC error\n"
     ]
    },
    {
     "data": {
      "image/png": "[encoded data removed]",
      "text/plain": [
       "<Figure size 640x480 with 1 Axes>"
      ]
     },
     "metadata": {},
     "output_type": "display_data"
    },
    {
     "name": "stdout",
     "output_type": "stream",
     "text": [
      "here\n",
      "100 200\n"
     ]
    },
    {
     "name": "stderr",
     "output_type": "stream",
     "text": [
      "libpng warning: pHYs: CRC error\n"
     ]
    },
    {
     "data": {
      "image/png": "[encoded data removed]",
      "text/plain": [
       "<Figure size 640x480 with 1 Axes>"
      ]
     },
     "metadata": {},
     "output_type": "display_data"
    },
    {
     "name": "stdout",
     "output_type": "stream",
     "text": [
      "here\n",
      "100 200\n"
     ]
    },
    {
     "name": "stderr",
     "output_type": "stream",
     "text": [
      "libpng warning: pHYs: CRC error\n"
     ]
    },
    {
     "data": {
      "image/png": "[encoded data removed]",
      "text/plain": [
       "<Figure size 640x480 with 1 Axes>"
      ]
     },
     "metadata": {},
     "output_type": "display_data"
    },
    {
     "name": "stdout",
     "output_type": "stream",
     "text": [
      "here\n",
      "100 200\n"
     ]
    },
    {
     "name": "stderr",
     "output_type": "stream",
     "text": [
      "libpng warning: pHYs: CRC error\n"
     ]
    },
    {
     "data": {
      "image/png": "[encoded data removed]",
      "text/plain": [
       "<Figure size 640x480 with 1 Axes>"
      ]
     },
     "metadata": {},
     "output_type": "display_data"
    },
    {
     "name": "stdout",
     "output_type": "stream",
     "text": [
      "here\n",
      "100 200\n"
     ]
    },
    {
     "name": "stderr",
     "output_type": "stream",
     "text": [
      "libpng warning: pHYs: CRC error\n"
     ]
    },
    {
     "data": {
      "image/png": "[encoded data removed]",
      "text/plain": [
       "<Figure size 640x480 with 1 Axes>"
      ]
     },
     "metadata": {},
     "output_type": "display_data"
    },
    {
     "name": "stdout",
     "output_type": "stream",
     "text": [
      "here\n",
      "100 200\n"
     ]
    },
    {
     "name": "stderr",
     "output_type": "stream",
     "text": [
      "libpng warning: pHYs: CRC error\n"
     ]
    },
    {
     "data": {
      "image/png": "[encoded data removed]",
      "text/plain": [
       "<Figure size 640x480 with 1 Axes>"
      ]
     },
     "metadata": {},
     "output_type": "display_data"
    },
    {
     "name": "stdout",
     "output_type": "stream",
     "text": [
      "here\n",
      "100 200\n"
     ]
    },
    {
     "name": "stderr",
     "output_type": "stream",
     "text": [
      "libpng warning: pHYs: CRC error\n"
     ]
    },
    {
     "data": {
      "image/png": "[encoded data removed]",
      "text/plain": [
       "<Figure size 640x480 with 1 Axes>"
      ]
     },
     "metadata": {},
     "output_type": "display_data"
    },
    {
     "name": "stdout",
     "output_type": "stream",
     "text": [
      "here\n",
      "100 200\n"
     ]
    },
    {
     "name": "stderr",
     "output_type": "stream",
     "text": [
      "libpng warning: pHYs: CRC error\n"
     ]
    },
    {
     "data": {
      "image/png": "[encoded data removed]",
      "text/plain": [
       "<Figure size 640x480 with 1 Axes>"
      ]
     },
     "metadata": {},
     "output_type": "display_data"
    },
    {
     "name": "stdout",
     "output_type": "stream",
     "text": [
      "here\n",
      "100 200\n"
     ]
    },
    {
     "name": "stderr",
     "output_type": "stream",
     "text": [
      "libpng warning: pHYs: CRC error\n"
     ]
    },
    {
     "data": {
      "image/png": "[encoded data removed]",
      "text/plain": [
       "<Figure size 640x480 with 1 Axes>"
      ]
     },
     "metadata": {},
     "output_type": "display_data"
    },
    {
     "name": "stdout",
     "output_type": "stream",
     "text": [
      "here\n",
      "100 200\n"
     ]
    },
    {
     "name": "stderr",
     "output_type": "stream",
     "text": [
      "libpng warning: pHYs: CRC error\n"
     ]
    },
    {
     "data": {
      "image/png": "[encoded data removed]",
      "text/plain": [
       "<Figure size 640x480 with 1 Axes>"
      ]
     },
     "metadata": {},
     "output_type": "display_data"
    },
    {
     "name": "stdout",
     "output_type": "stream",
     "text": [
      "here\n",
      "100 200\n"
     ]
    },
    {
     "name": "stderr",
     "output_type": "stream",
     "text": [
      "libpng warning: pHYs: CRC error\n"
     ]
    },
    {
     "data": {
      "image/png": "[encoded data removed]",
      "text/plain": [
       "<Figure size 640x480 with 1 Axes>"
      ]
     },
     "metadata": {},
     "output_type": "display_data"
    },
    {
     "name": "stdout",
     "output_type": "stream",
     "text": [
      "here\n",
      "100 200\n"
     ]
    },
    {
     "name": "stderr",
     "output_type": "stream",
     "text": [
      "libpng warning: pHYs: CRC error\n"
     ]
    },
    {
     "data": {
      "image/png": "[encoded data removed]",
      "text/plain": [
       "<Figure size 640x480 with 1 Axes>"
      ]
     },
     "metadata": {},
     "output_type": "display_data"
    },
    {
     "name": "stdout",
     "output_type": "stream",
     "text": [
      "here\n",
      "100 200\n"
     ]
    },
    {
     "name": "stderr",
     "output_type": "stream",
     "text": [
      "libpng warning: pHYs: CRC error\n"
     ]
    },
    {
     "data": {
      "image/png": "[encoded data removed]",
      "text/plain": [
       "<Figure size 640x480 with 1 Axes>"
      ]
     },
     "metadata": {},
     "output_type": "display_data"
    },
    {
     "name": "stdout",
     "output_type": "stream",
     "text": [
      "here\n",
      "100 200\n"
     ]
    },
    {
     "name": "stderr",
     "output_type": "stream",
     "text": [
      "libpng warning: pHYs: CRC error\n"
     ]
    },
    {
     "data": {
      "image/png": "[encoded data removed]",
      "text/plain": [
       "<Figure size 640x480 with 1 Axes>"
      ]
     },
     "metadata": {},
     "output_type": "display_data"
    },
    {
     "name": "stdout",
     "output_type": "stream",
     "text": [
      "here\n",
      "100 200\n"
     ]
    },
    {
     "name": "stderr",
     "output_type": "stream",
     "text": [
      "libpng warning: pHYs: CRC error\n"
     ]
    },
    {
     "data": {
      "image/png": "[encoded data removed]",
      "text/plain": [
       "<Figure size 640x480 with 1 Axes>"
      ]
     },
     "metadata": {},
     "output_type": "display_data"
    },
    {
     "name": "stdout",
     "output_type": "stream",
     "text": [
      "here\n"
     ]
    },
    {
     "name": "stderr",
     "output_type": "stream",
     "text": [
      "libpng warning: pHYs: CRC error\n"
     ]
    },
    {
     "name": "stdout",
     "output_type": "stream",
     "text": [
      "100 200\n"
     ]
    },
    {
     "data": {
      "image/png": "[encoded data removed]",
      "text/plain": [
       "<Figure size 640x480 with 1 Axes>"
      ]
     },
     "metadata": {},
     "output_type": "display_data"
    },
    {
     "name": "stdout",
     "output_type": "stream",
     "text": [
      "here\n",
      "100 200\n"
     ]
    },
    {
     "name": "stderr",
     "output_type": "stream",
     "text": [
      "libpng warning: pHYs: CRC error\n"
     ]
    },
    {
     "data": {
      "image/png": "[encoded data removed]",
      "text/plain": [
       "<Figure size 640x480 with 1 Axes>"
      ]
     },
     "metadata": {},
     "output_type": "display_data"
    },
    {
     "name": "stdout",
     "output_type": "stream",
     "text": [
      "here\n",
      "100 200\n"
     ]
    },
    {
     "name": "stderr",
     "output_type": "stream",
     "text": [
      "libpng warning: pHYs: CRC error\n"
     ]
    },
    {
     "data": {
      "image/png": "[encoded data removed]",
      "text/plain": [
       "<Figure size 640x480 with 1 Axes>"
      ]
     },
     "metadata": {},
     "output_type": "display_data"
    },
    {
     "name": "stdout",
     "output_type": "stream",
     "text": [
      "here\n",
      "100 200\n"
     ]
    },
    {
     "name": "stderr",
     "output_type": "stream",
     "text": [
      "libpng warning: pHYs: CRC error\n"
     ]
    },
    {
     "data": {
      "image/png": "[encoded data removed]",
      "text/plain": [
       "<Figure size 640x480 with 1 Axes>"
      ]
     },
     "metadata": {},
     "output_type": "display_data"
    },
    {
     "name": "stdout",
     "output_type": "stream",
     "text": [
      "here\n",
      "100 200\n"
     ]
    },
    {
     "name": "stderr",
     "output_type": "stream",
     "text": [
      "libpng warning: pHYs: CRC error\n"
     ]
    },
    {
     "data": {
      "image/png": "[encoded data removed]",
      "text/plain": [
       "<Figure size 640x480 with 1 Axes>"
      ]
     },
     "metadata": {},
     "output_type": "display_data"
    },
    {
     "name": "stdout",
     "output_type": "stream",
     "text": [
      "here\n",
      "100 200\n"
     ]
    },
    {
     "name": "stderr",
     "output_type": "stream",
     "text": [
      "libpng warning: pHYs: CRC error\n"
     ]
    },
    {
     "data": {
      "image/png": "[encoded data removed]",
      "text/plain": [
       "<Figure size 640x480 with 1 Axes>"
      ]
     },
     "metadata": {},
     "output_type": "display_data"
    },
    {
     "name": "stdout",
     "output_type": "stream",
     "text": [
      "here\n",
      "100 200\n"
     ]
    },
    {
     "name": "stderr",
     "output_type": "stream",
     "text": [
      "libpng warning: pHYs: CRC error\n"
     ]
    },
    {
     "data": {
      "image/png": "[encoded data removed]",
      "text/plain": [
       "<Figure size 640x480 with 1 Axes>"
      ]
     },
     "metadata": {},
     "output_type": "display_data"
    },
    {
     "name": "stdout",
     "output_type": "stream",
     "text": [
      "here\n",
      "100 200\n"
     ]
    },
    {
     "name": "stderr",
     "output_type": "stream",
     "text": [
      "libpng warning: pHYs: CRC error\n"
     ]
    },
    {
     "data": {
      "image/png": "[encoded data removed]",
      "text/plain": [
       "<Figure size 640x480 with 1 Axes>"
      ]
     },
     "metadata": {},
     "output_type": "display_data"
    },
    {
     "name": "stdout",
     "output_type": "stream",
     "text": [
      "here\n",
      "100 200\n"
     ]
    },
    {
     "name": "stderr",
     "output_type": "stream",
     "text": [
      "libpng warning: pHYs: CRC error\n"
     ]
    },
    {
     "data": {
      "image/png": "[encoded data removed]",
      "text/plain": [
       "<Figure size 640x480 with 1 Axes>"
      ]
     },
     "metadata": {},
     "output_type": "display_data"
    },
    {
     "name": "stdout",
     "output_type": "stream",
     "text": [
      "here\n",
      "100 200\n"
     ]
    },
    {
     "name": "stderr",
     "output_type": "stream",
     "text": [
      "libpng warning: pHYs: CRC error\n"
     ]
    },
    {
     "data": {
      "image/png": "[encoded data removed]",
      "text/plain": [
       "<Figure size 640x480 with 1 Axes>"
      ]
     },
     "metadata": {},
     "output_type": "display_data"
    },
    {
     "name": "stdout",
     "output_type": "stream",
     "text": [
      "here\n",
      "100 200\n"
     ]
    },
    {
     "name": "stderr",
     "output_type": "stream",
     "text": [
      "libpng warning: pHYs: CRC error\n"
     ]
    },
    {
     "data": {
      "image/png": "[encoded data removed]",
      "text/plain": [
       "<Figure size 640x480 with 1 Axes>"
      ]
     },
     "metadata": {},
     "output_type": "display_data"
    },
    {
     "name": "stdout",
     "output_type": "stream",
     "text": [
      "here\n",
      "100 200\n"
     ]
    },
    {
     "name": "stderr",
     "output_type": "stream",
     "text": [
      "libpng warning: pHYs: CRC error\n"
     ]
    },
    {
     "data": {
      "image/png": "[encoded data removed]",
      "text/plain": [
       "<Figure size 640x480 with 1 Axes>"
      ]
     },
     "metadata": {},
     "output_type": "display_data"
    },
    {
     "name": "stdout",
     "output_type": "stream",
     "text": [
      "here\n",
      "100 200\n"
     ]
    },
    {
     "name": "stderr",
     "output_type": "stream",
     "text": [
      "libpng warning: pHYs: CRC error\n"
     ]
    },
    {
     "data": {
      "image/png": "[encoded data removed]",
      "text/plain": [
       "<Figure size 640x480 with 1 Axes>"
      ]
     },
     "metadata": {},
     "output_type": "display_data"
    },
    {
     "name": "stdout",
     "output_type": "stream",
     "text": [
      "here\n"
     ]
    },
    {
     "name": "stderr",
     "output_type": "stream",
     "text": [
      "libpng warning: pHYs: CRC error\n"
     ]
    },
    {
     "name": "stdout",
     "output_type": "stream",
     "text": [
      "100 200\n"
     ]
    },
    {
     "data": {
      "image/png": "[encoded data removed]",
      "text/plain": [
       "<Figure size 640x480 with 1 Axes>"
      ]
     },
     "metadata": {},
     "output_type": "display_data"
    },
    {
     "name": "stdout",
     "output_type": "stream",
     "text": [
      "here\n"
     ]
    },
    {
     "name": "stderr",
     "output_type": "stream",
     "text": [
      "libpng warning: pHYs: CRC error\n"
     ]
    },
    {
     "name": "stdout",
     "output_type": "stream",
     "text": [
      "100 200\n"
     ]
    },
    {
     "data": {
      "image/png": "[encoded data removed]",
      "text/plain": [
       "<Figure size 640x480 with 1 Axes>"
      ]
     },
     "metadata": {},
     "output_type": "display_data"
    },
    {
     "name": "stdout",
     "output_type": "stream",
     "text": [
      "here\n",
      "100 200\n"
     ]
    },
    {
     "name": "stderr",
     "output_type": "stream",
     "text": [
      "libpng warning: pHYs: CRC error\n"
     ]
    },
    {
     "data": {
      "image/png": "[encoded data removed]",
      "text/plain": [
       "<Figure size 640x480 with 1 Axes>"
      ]
     },
     "metadata": {},
     "output_type": "display_data"
    },
    {
     "name": "stdout",
     "output_type": "stream",
     "text": [
      "here\n",
      "100 200\n"
     ]
    },
    {
     "name": "stderr",
     "output_type": "stream",
     "text": [
      "libpng warning: pHYs: CRC error\n"
     ]
    },
    {
     "data": {
      "image/png": "[encoded data removed]",
      "text/plain": [
       "<Figure size 640x480 with 1 Axes>"
      ]
     },
     "metadata": {},
     "output_type": "display_data"
    },
    {
     "name": "stdout",
     "output_type": "stream",
     "text": [
      "here\n",
      "100 200\n"
     ]
    },
    {
     "name": "stderr",
     "output_type": "stream",
     "text": [
      "libpng warning: pHYs: CRC error\n"
     ]
    },
    {
     "data": {
      "image/png": "[encoded data removed]",
      "text/plain": [
       "<Figure size 640x480 with 1 Axes>"
      ]
     },
     "metadata": {},
     "output_type": "display_data"
    },
    {
     "name": "stdout",
     "output_type": "stream",
     "text": [
      "here\n",
      "100 200\n"
     ]
    },
    {
     "name": "stderr",
     "output_type": "stream",
     "text": [
      "libpng warning: pHYs: CRC error\n"
     ]
    },
    {
     "data": {
      "image/png": "[encoded data removed]",
      "text/plain": [
       "<Figure size 640x480 with 1 Axes>"
      ]
     },
     "metadata": {},
     "output_type": "display_data"
    },
    {
     "name": "stdout",
     "output_type": "stream",
     "text": [
      "here\n",
      "100 200\n"
     ]
    },
    {
     "name": "stderr",
     "output_type": "stream",
     "text": [
      "libpng warning: pHYs: CRC error\n"
     ]
    },
    {
     "data": {
      "image/png": "[encoded data removed]",
      "text/plain": [
       "<Figure size 640x480 with 1 Axes>"
      ]
     },
     "metadata": {},
     "output_type": "display_data"
    },
    {
     "name": "stdout",
     "output_type": "stream",
     "text": [
      "here\n",
      "100 200\n"
     ]
    },
    {
     "name": "stderr",
     "output_type": "stream",
     "text": [
      "libpng warning: pHYs: CRC error\n"
     ]
    },
    {
     "data": {
      "image/png": "[encoded data removed]",
      "text/plain": [
       "<Figure size 640x480 with 1 Axes>"
      ]
     },
     "metadata": {},
     "output_type": "display_data"
    },
    {
     "name": "stdout",
     "output_type": "stream",
     "text": [
      "here\n",
      "100 200\n"
     ]
    },
    {
     "name": "stderr",
     "output_type": "stream",
     "text": [
      "libpng warning: pHYs: CRC error\n"
     ]
    },
    {
     "data": {
      "image/png": "[encoded data removed]",
      "text/plain": [
       "<Figure size 640x480 with 1 Axes>"
      ]
     },
     "metadata": {},
     "output_type": "display_data"
    },
    {
     "name": "stdout",
     "output_type": "stream",
     "text": [
      "here\n"
     ]
    },
    {
     "name": "stderr",
     "output_type": "stream",
     "text": [
      "libpng warning: pHYs: CRC error\n"
     ]
    },
    {
     "name": "stdout",
     "output_type": "stream",
     "text": [
      "100 200\n"
     ]
    },
    {
     "data": {
      "image/png": "[encoded data removed]",
      "text/plain": [
       "<Figure size 640x480 with 1 Axes>"
      ]
     },
     "metadata": {},
     "output_type": "display_data"
    },
    {
     "name": "stdout",
     "output_type": "stream",
     "text": [
      "here\n",
      "100 200\n"
     ]
    },
    {
     "name": "stderr",
     "output_type": "stream",
     "text": [
      "libpng warning: pHYs: CRC error\n"
     ]
    },
    {
     "data": {
      "image/png": "[encoded data removed]",
      "text/plain": [
       "<Figure size 640x480 with 1 Axes>"
      ]
     },
     "metadata": {},
     "output_type": "display_data"
    },
    {
     "name": "stdout",
     "output_type": "stream",
     "text": [
      "here\n",
      "100 200\n"
     ]
    },
    {
     "name": "stderr",
     "output_type": "stream",
     "text": [
      "libpng warning: pHYs: CRC error\n"
     ]
    },
    {
     "data": {
      "image/png": "[encoded data removed]",
      "text/plain": [
       "<Figure size 640x480 with 1 Axes>"
      ]
     },
     "metadata": {},
     "output_type": "display_data"
    },
    {
     "name": "stdout",
     "output_type": "stream",
     "text": [
      "here\n"
     ]
    },
    {
     "name": "stderr",
     "output_type": "stream",
     "text": [
      "libpng warning: pHYs: CRC error\n"
     ]
    },
    {
     "name": "stdout",
     "output_type": "stream",
     "text": [
      "200 200\n"
     ]
    },
    {
     "data": {
      "image/png": "[encoded data removed]",
      "text/plain": [
       "<Figure size 640x480 with 1 Axes>"
      ]
     },
     "metadata": {},
     "output_type": "display_data"
    },
    {
     "name": "stdout",
     "output_type": "stream",
     "text": [
      "here\n",
      "200 200\n"
     ]
    },
    {
     "name": "stderr",
     "output_type": "stream",
     "text": [
      "libpng warning: pHYs: CRC error\n"
     ]
    },
    {
     "data": {
      "image/png": "[encoded data removed]",
      "text/plain": [
       "<Figure size 640x480 with 1 Axes>"
      ]
     },
     "metadata": {},
     "output_type": "display_data"
    },
    {
     "name": "stdout",
     "output_type": "stream",
     "text": [
      "here\n",
      "200 200\n"
     ]
    },
    {
     "name": "stderr",
     "output_type": "stream",
     "text": [
      "libpng warning: pHYs: CRC error\n"
     ]
    },
    {
     "data": {
      "image/png": "[encoded data removed]",
      "text/plain": [
       "<Figure size 640x480 with 1 Axes>"
      ]
     },
     "metadata": {},
     "output_type": "display_data"
    },
    {
     "name": "stdout",
     "output_type": "stream",
     "text": [
      "here\n",
      "200 200\n"
     ]
    },
    {
     "name": "stderr",
     "output_type": "stream",
     "text": [
      "libpng warning: pHYs: CRC error\n"
     ]
    },
    {
     "data": {
      "image/png": "[encoded data removed]",
      "text/plain": [
       "<Figure size 640x480 with 1 Axes>"
      ]
     },
     "metadata": {},
     "output_type": "display_data"
    },
    {
     "name": "stdout",
     "output_type": "stream",
     "text": [
      "here\n",
      "200 200\n"
     ]
    },
    {
     "name": "stderr",
     "output_type": "stream",
     "text": [
      "libpng warning: pHYs: CRC error\n"
     ]
    },
    {
     "data": {
      "image/png": "[encoded data removed]",
      "text/plain": [
       "<Figure size 640x480 with 1 Axes>"
      ]
     },
     "metadata": {},
     "output_type": "display_data"
    },
    {
     "name": "stdout",
     "output_type": "stream",
     "text": [
      "here\n",
      "200 200\n"
     ]
    },
    {
     "name": "stderr",
     "output_type": "stream",
     "text": [
      "libpng warning: pHYs: CRC error\n"
     ]
    },
    {
     "data": {
      "image/png": "[encoded data removed]",
      "text/plain": [
       "<Figure size 640x480 with 1 Axes>"
      ]
     },
     "metadata": {},
     "output_type": "display_data"
    },
    {
     "name": "stdout",
     "output_type": "stream",
     "text": [
      "here\n",
      "200 200\n"
     ]
    },
    {
     "name": "stderr",
     "output_type": "stream",
     "text": [
      "libpng warning: pHYs: CRC error\n"
     ]
    },
    {
     "data": {
      "image/png": "[encoded data removed]",
      "text/plain": [
       "<Figure size 640x480 with 1 Axes>"
      ]
     },
     "metadata": {},
     "output_type": "display_data"
    },
    {
     "name": "stdout",
     "output_type": "stream",
     "text": [
      "here\n",
      "200 200\n"
     ]
    },
    {
     "name": "stderr",
     "output_type": "stream",
     "text": [
      "libpng warning: pHYs: CRC error\n"
     ]
    },
    {
     "data": {
      "image/png": "[encoded data removed]",
      "text/plain": [
       "<Figure size 640x480 with 1 Axes>"
      ]
     },
     "metadata": {},
     "output_type": "display_data"
    },
    {
     "name": "stdout",
     "output_type": "stream",
     "text": [
      "here\n",
      "200 200\n"
     ]
    },
    {
     "name": "stderr",
     "output_type": "stream",
     "text": [
      "libpng warning: pHYs: CRC error\n"
     ]
    },
    {
     "data": {
      "image/png": "[encoded data removed]",
      "text/plain": [
       "<Figure size 640x480 with 1 Axes>"
      ]
     },
     "metadata": {},
     "output_type": "display_data"
    },
    {
     "name": "stdout",
     "output_type": "stream",
     "text": [
      "here\n",
      "200 200\n"
     ]
    },
    {
     "name": "stderr",
     "output_type": "stream",
     "text": [
      "libpng warning: pHYs: CRC error\n"
     ]
    },
    {
     "data": {
      "image/png": "[encoded data removed]",
      "text/plain": [
       "<Figure size 640x480 with 1 Axes>"
      ]
     },
     "metadata": {},
     "output_type": "display_data"
    },
    {
     "name": "stdout",
     "output_type": "stream",
     "text": [
      "here\n",
      "200 200\n"
     ]
    },
    {
     "name": "stderr",
     "output_type": "stream",
     "text": [
      "libpng warning: pHYs: CRC error\n"
     ]
    },
    {
     "data": {
      "image/png": "[encoded data removed]",
      "text/plain": [
       "<Figure size 640x480 with 1 Axes>"
      ]
     },
     "metadata": {},
     "output_type": "display_data"
    },
    {
     "name": "stdout",
     "output_type": "stream",
     "text": [
      "here\n",
      "200 200\n"
     ]
    },
    {
     "name": "stderr",
     "output_type": "stream",
     "text": [
      "libpng warning: pHYs: CRC error\n"
     ]
    },
    {
     "data": {
      "image/png": "[encoded data removed]",
      "text/plain": [
       "<Figure size 640x480 with 1 Axes>"
      ]
     },
     "metadata": {},
     "output_type": "display_data"
    },
    {
     "name": "stdout",
     "output_type": "stream",
     "text": [
      "here\n",
      "200 200\n"
     ]
    },
    {
     "name": "stderr",
     "output_type": "stream",
     "text": [
      "libpng warning: pHYs: CRC error\n"
     ]
    },
    {
     "data": {
      "image/png": "[encoded data removed]",
      "text/plain": [
       "<Figure size 640x480 with 1 Axes>"
      ]
     },
     "metadata": {},
     "output_type": "display_data"
    },
    {
     "name": "stdout",
     "output_type": "stream",
     "text": [
      "here\n",
      "200 200\n"
     ]
    },
    {
     "name": "stderr",
     "output_type": "stream",
     "text": [
      "libpng warning: pHYs: CRC error\n"
     ]
    },
    {
     "data": {
      "image/png": "[encoded data removed]",
      "text/plain": [
       "<Figure size 640x480 with 1 Axes>"
      ]
     },
     "metadata": {},
     "output_type": "display_data"
    },
    {
     "name": "stdout",
     "output_type": "stream",
     "text": [
      "here\n",
      "200 200\n"
     ]
    },
    {
     "name": "stderr",
     "output_type": "stream",
     "text": [
      "libpng warning: pHYs: CRC error\n"
     ]
    },
    {
     "data": {
      "image/png": "[encoded data removed]",
      "text/plain": [
       "<Figure size 640x480 with 1 Axes>"
      ]
     },
     "metadata": {},
     "output_type": "display_data"
    },
    {
     "name": "stdout",
     "output_type": "stream",
     "text": [
      "here\n",
      "200 200\n"
     ]
    },
    {
     "name": "stderr",
     "output_type": "stream",
     "text": [
      "libpng warning: pHYs: CRC error\n"
     ]
    },
    {
     "data": {
      "image/png": "[encoded data removed]",
      "text/plain": [
       "<Figure size 640x480 with 1 Axes>"
      ]
     },
     "metadata": {},
     "output_type": "display_data"
    },
    {
     "name": "stdout",
     "output_type": "stream",
     "text": [
      "here\n",
      "200 200\n"
     ]
    },
    {
     "name": "stderr",
     "output_type": "stream",
     "text": [
      "libpng warning: pHYs: CRC error\n"
     ]
    },
    {
     "data": {
      "image/png": "[encoded data removed]",
      "text/plain": [
       "<Figure size 640x480 with 1 Axes>"
      ]
     },
     "metadata": {},
     "output_type": "display_data"
    },
    {
     "name": "stdout",
     "output_type": "stream",
     "text": [
      "here\n",
      "200 200\n"
     ]
    },
    {
     "name": "stderr",
     "output_type": "stream",
     "text": [
      "libpng warning: pHYs: CRC error\n"
     ]
    },
    {
     "data": {
      "image/png": "[encoded data removed]",
      "text/plain": [
       "<Figure size 640x480 with 1 Axes>"
      ]
     },
     "metadata": {},
     "output_type": "display_data"
    },
    {
     "name": "stdout",
     "output_type": "stream",
     "text": [
      "here\n",
      "200 200\n"
     ]
    },
    {
     "name": "stderr",
     "output_type": "stream",
     "text": [
      "libpng warning: pHYs: CRC error\n"
     ]
    },
    {
     "data": {
      "image/png": "[encoded data removed]",
      "text/plain": [
       "<Figure size 640x480 with 1 Axes>"
      ]
     },
     "metadata": {},
     "output_type": "display_data"
    },
    {
     "name": "stdout",
     "output_type": "stream",
     "text": [
      "here\n",
      "200 200\n"
     ]
    },
    {
     "name": "stderr",
     "output_type": "stream",
     "text": [
      "libpng warning: pHYs: CRC error\n"
     ]
    },
    {
     "data": {
      "image/png": "[encoded data removed]",
      "text/plain": [
       "<Figure size 640x480 with 1 Axes>"
      ]
     },
     "metadata": {},
     "output_type": "display_data"
    },
    {
     "name": "stdout",
     "output_type": "stream",
     "text": [
      "here\n",
      "200 200\n"
     ]
    },
    {
     "name": "stderr",
     "output_type": "stream",
     "text": [
      "libpng warning: pHYs: CRC error\n"
     ]
    },
    {
     "data": {
      "image/png": "[encoded data removed]",
      "text/plain": [
       "<Figure size 640x480 with 1 Axes>"
      ]
     },
     "metadata": {},
     "output_type": "display_data"
    },
    {
     "name": "stdout",
     "output_type": "stream",
     "text": [
      "here\n",
      "200 200\n"
     ]
    },
    {
     "name": "stderr",
     "output_type": "stream",
     "text": [
      "libpng warning: pHYs: CRC error\n"
     ]
    },
    {
     "data": {
      "image/png": "[encoded data removed]",
      "text/plain": [
       "<Figure size 640x480 with 1 Axes>"
      ]
     },
     "metadata": {},
     "output_type": "display_data"
    },
    {
     "name": "stdout",
     "output_type": "stream",
     "text": [
      "here\n",
      "200 200\n"
     ]
    },
    {
     "name": "stderr",
     "output_type": "stream",
     "text": [
      "libpng warning: pHYs: CRC error\n"
     ]
    },
    {
     "data": {
      "image/png": "[encoded data removed]",
      "text/plain": [
       "<Figure size 640x480 with 1 Axes>"
      ]
     },
     "metadata": {},
     "output_type": "display_data"
    },
    {
     "name": "stdout",
     "output_type": "stream",
     "text": [
      "here\n"
     ]
    },
    {
     "name": "stderr",
     "output_type": "stream",
     "text": [
      "libpng warning: pHYs: CRC error\n"
     ]
    },
    {
     "name": "stdout",
     "output_type": "stream",
     "text": [
      "200 200\n"
     ]
    },
    {
     "data": {
      "image/png": "[encoded data removed]",
      "text/plain": [
       "<Figure size 640x480 with 1 Axes>"
      ]
     },
     "metadata": {},
     "output_type": "display_data"
    },
    {
     "name": "stdout",
     "output_type": "stream",
     "text": [
      "here\n",
      "200 200\n"
     ]
    },
    {
     "name": "stderr",
     "output_type": "stream",
     "text": [
      "libpng warning: pHYs: CRC error\n"
     ]
    },
    {
     "data": {
      "image/png": "[encoded data removed]",
      "text/plain": [
       "<Figure size 640x480 with 1 Axes>"
      ]
     },
     "metadata": {},
     "output_type": "display_data"
    },
    {
     "name": "stdout",
     "output_type": "stream",
     "text": [
      "here\n",
      "200 200\n"
     ]
    },
    {
     "name": "stderr",
     "output_type": "stream",
     "text": [
      "libpng warning: pHYs: CRC error\n"
     ]
    },
    {
     "data": {
      "image/png": "[encoded data removed]",
      "text/plain": [
       "<Figure size 640x480 with 1 Axes>"
      ]
     },
     "metadata": {},
     "output_type": "display_data"
    },
    {
     "name": "stdout",
     "output_type": "stream",
     "text": [
      "here\n",
      "200 200\n"
     ]
    },
    {
     "name": "stderr",
     "output_type": "stream",
     "text": [
      "libpng warning: pHYs: CRC error\n"
     ]
    },
    {
     "data": {
      "image/png": "[encoded data removed]",
      "text/plain": [
       "<Figure size 640x480 with 1 Axes>"
      ]
     },
     "metadata": {},
     "output_type": "display_data"
    },
    {
     "name": "stdout",
     "output_type": "stream",
     "text": [
      "here\n",
      "200 200\n"
     ]
    },
    {
     "name": "stderr",
     "output_type": "stream",
     "text": [
      "libpng warning: pHYs: CRC error\n"
     ]
    },
    {
     "data": {
      "image/png": "[encoded data removed]",
      "text/plain": [
       "<Figure size 640x480 with 1 Axes>"
      ]
     },
     "metadata": {},
     "output_type": "display_data"
    },
    {
     "name": "stdout",
     "output_type": "stream",
     "text": [
      "here\n",
      "200 200\n"
     ]
    },
    {
     "name": "stderr",
     "output_type": "stream",
     "text": [
      "libpng warning: pHYs: CRC error\n"
     ]
    },
    {
     "data": {
      "image/png": "[encoded data removed]",
      "text/plain": [
       "<Figure size 640x480 with 1 Axes>"
      ]
     },
     "metadata": {},
     "output_type": "display_data"
    },
    {
     "name": "stdout",
     "output_type": "stream",
     "text": [
      "here\n",
      "200 200\n"
     ]
    },
    {
     "name": "stderr",
     "output_type": "stream",
     "text": [
      "libpng warning: pHYs: CRC error\n"
     ]
    },
    {
     "data": {
      "image/png": "[encoded data removed]",
      "text/plain": [
       "<Figure size 640x480 with 1 Axes>"
      ]
     },
     "metadata": {},
     "output_type": "display_data"
    },
    {
     "name": "stdout",
     "output_type": "stream",
     "text": [
      "here\n",
      "200 200\n"
     ]
    },
    {
     "name": "stderr",
     "output_type": "stream",
     "text": [
      "libpng warning: pHYs: CRC error\n"
     ]
    },
    {
     "data": {
      "image/png": "[encoded data removed]",
      "text/plain": [
       "<Figure size 640x480 with 1 Axes>"
      ]
     },
     "metadata": {},
     "output_type": "display_data"
    },
    {
     "name": "stdout",
     "output_type": "stream",
     "text": [
      "here\n",
      "200 200\n"
     ]
    },
    {
     "name": "stderr",
     "output_type": "stream",
     "text": [
      "libpng warning: pHYs: CRC error\n"
     ]
    },
    {
     "data": {
      "image/png": "[encoded data removed]",
      "text/plain": [
       "<Figure size 640x480 with 1 Axes>"
      ]
     },
     "metadata": {},
     "output_type": "display_data"
    },
    {
     "name": "stdout",
     "output_type": "stream",
     "text": [
      "here\n"
     ]
    },
    {
     "name": "stderr",
     "output_type": "stream",
     "text": [
      "libpng warning: pHYs: CRC error\n"
     ]
    },
    {
     "name": "stdout",
     "output_type": "stream",
     "text": [
      "200 200\n"
     ]
    },
    {
     "data": {
      "image/png": "[encoded data removed]",
      "text/plain": [
       "<Figure size 640x480 with 1 Axes>"
      ]
     },
     "metadata": {},
     "output_type": "display_data"
    },
    {
     "name": "stdout",
     "output_type": "stream",
     "text": [
      "here\n",
      "200 200\n"
     ]
    },
    {
     "name": "stderr",
     "output_type": "stream",
     "text": [
      "libpng warning: pHYs: CRC error\n"
     ]
    },
    {
     "data": {
      "image/png": "[encoded data removed]",
      "text/plain": [
       "<Figure size 640x480 with 1 Axes>"
      ]
     },
     "metadata": {},
     "output_type": "display_data"
    },
    {
     "name": "stdout",
     "output_type": "stream",
     "text": [
      "here\n",
      "200 200\n"
     ]
    },
    {
     "name": "stderr",
     "output_type": "stream",
     "text": [
      "libpng warning: pHYs: CRC error\n"
     ]
    },
    {
     "data": {
      "image/png": "[encoded data removed]",
      "text/plain": [
       "<Figure size 640x480 with 1 Axes>"
      ]
     },
     "metadata": {},
     "output_type": "display_data"
    },
    {
     "name": "stdout",
     "output_type": "stream",
     "text": [
      "here\n",
      "200 200\n"
     ]
    },
    {
     "name": "stderr",
     "output_type": "stream",
     "text": [
      "libpng warning: pHYs: CRC error\n"
     ]
    },
    {
     "data": {
      "image/png": "[encoded data removed]",
      "text/plain": [
       "<Figure size 640x480 with 1 Axes>"
      ]
     },
     "metadata": {},
     "output_type": "display_data"
    },
    {
     "name": "stdout",
     "output_type": "stream",
     "text": [
      "here\n",
      "200 200\n"
     ]
    },
    {
     "name": "stderr",
     "output_type": "stream",
     "text": [
      "libpng warning: pHYs: CRC error\n"
     ]
    },
    {
     "data": {
      "image/png": "[encoded data removed]",
      "text/plain": [
       "<Figure size 640x480 with 1 Axes>"
      ]
     },
     "metadata": {},
     "output_type": "display_data"
    },
    {
     "name": "stdout",
     "output_type": "stream",
     "text": [
      "here\n",
      "200 200\n"
     ]
    },
    {
     "name": "stderr",
     "output_type": "stream",
     "text": [
      "libpng warning: pHYs: CRC error\n"
     ]
    },
    {
     "data": {
      "image/png": "[encoded data removed]",
      "text/plain": [
       "<Figure size 640x480 with 1 Axes>"
      ]
     },
     "metadata": {},
     "output_type": "display_data"
    },
    {
     "name": "stdout",
     "output_type": "stream",
     "text": [
      "here\n",
      "200 200\n"
     ]
    },
    {
     "name": "stderr",
     "output_type": "stream",
     "text": [
      "libpng warning: pHYs: CRC error\n"
     ]
    },
    {
     "data": {
      "image/png": "[encoded data removed]",
      "text/plain": [
       "<Figure size 640x480 with 1 Axes>"
      ]
     },
     "metadata": {},
     "output_type": "display_data"
    },
    {
     "name": "stdout",
     "output_type": "stream",
     "text": [
      "here\n",
      "200 200\n"
     ]
    },
    {
     "name": "stderr",
     "output_type": "stream",
     "text": [
      "libpng warning: pHYs: CRC error\n"
     ]
    },
    {
     "data": {
      "image/png": "[encoded data removed]",
      "text/plain": [
       "<Figure size 640x480 with 1 Axes>"
      ]
     },
     "metadata": {},
     "output_type": "display_data"
    },
    {
     "name": "stdout",
     "output_type": "stream",
     "text": [
      "here\n",
      "200 200\n"
     ]
    },
    {
     "name": "stderr",
     "output_type": "stream",
     "text": [
      "libpng warning: pHYs: CRC error\n"
     ]
    },
    {
     "data": {
      "image/png": "[encoded data removed]",
      "text/plain": [
       "<Figure size 640x480 with 1 Axes>"
      ]
     },
     "metadata": {},
     "output_type": "display_data"
    },
    {
     "name": "stdout",
     "output_type": "stream",
     "text": [
      "here\n",
      "200 200\n"
     ]
    },
    {
     "name": "stderr",
     "output_type": "stream",
     "text": [
      "libpng warning: pHYs: CRC error\n"
     ]
    },
    {
     "data": {
      "image/png": "[encoded data removed]",
      "text/plain": [
       "<Figure size 640x480 with 1 Axes>"
      ]
     },
     "metadata": {},
     "output_type": "display_data"
    },
    {
     "name": "stdout",
     "output_type": "stream",
     "text": [
      "here\n",
      "200 200\n"
     ]
    },
    {
     "name": "stderr",
     "output_type": "stream",
     "text": [
      "libpng warning: pHYs: CRC error\n"
     ]
    },
    {
     "data": {
      "image/png": "[encoded data removed]",
      "text/plain": [
       "<Figure size 640x480 with 1 Axes>"
      ]
     },
     "metadata": {},
     "output_type": "display_data"
    },
    {
     "name": "stdout",
     "output_type": "stream",
     "text": [
      "here\n",
      "200 200\n"
     ]
    },
    {
     "name": "stderr",
     "output_type": "stream",
     "text": [
      "libpng warning: pHYs: CRC error\n"
     ]
    },
    {
     "data": {
      "image/png": "[encoded data removed]",
      "text/plain": [
       "<Figure size 640x480 with 1 Axes>"
      ]
     },
     "metadata": {},
     "output_type": "display_data"
    },
    {
     "name": "stdout",
     "output_type": "stream",
     "text": [
      "here\n",
      "200 200\n"
     ]
    },
    {
     "name": "stderr",
     "output_type": "stream",
     "text": [
      "libpng warning: pHYs: CRC error\n"
     ]
    },
    {
     "data": {
      "image/png": "[encoded data removed]",
      "text/plain": [
       "<Figure size 640x480 with 1 Axes>"
      ]
     },
     "metadata": {},
     "output_type": "display_data"
    },
    {
     "name": "stdout",
     "output_type": "stream",
     "text": [
      "here\n",
      "200 200\n"
     ]
    },
    {
     "name": "stderr",
     "output_type": "stream",
     "text": [
      "libpng warning: pHYs: CRC error\n"
     ]
    },
    {
     "data": {
      "image/png": "[encoded data removed]",
      "text/plain": [
       "<Figure size 640x480 with 1 Axes>"
      ]
     },
     "metadata": {},
     "output_type": "display_data"
    },
    {
     "name": "stdout",
     "output_type": "stream",
     "text": [
      "here\n",
      "200 200\n"
     ]
    },
    {
     "name": "stderr",
     "output_type": "stream",
     "text": [
      "libpng warning: pHYs: CRC error\n"
     ]
    },
    {
     "data": {
      "image/png": "[encoded data removed]",
      "text/plain": [
       "<Figure size 640x480 with 1 Axes>"
      ]
     },
     "metadata": {},
     "output_type": "display_data"
    },
    {
     "name": "stdout",
     "output_type": "stream",
     "text": [
      "here\n",
      "200 200\n"
     ]
    },
    {
     "name": "stderr",
     "output_type": "stream",
     "text": [
      "libpng warning: pHYs: CRC error\n"
     ]
    },
    {
     "data": {
      "image/png": "[encoded data removed]",
      "text/plain": [
       "<Figure size 640x480 with 1 Axes>"
      ]
     },
     "metadata": {},
     "output_type": "display_data"
    },
    {
     "name": "stdout",
     "output_type": "stream",
     "text": [
      "here\n",
      "200 200\n"
     ]
    },
    {
     "name": "stderr",
     "output_type": "stream",
     "text": [
      "libpng warning: pHYs: CRC error\n"
     ]
    },
    {
     "data": {
      "image/png": "[encoded data removed]",
      "text/plain": [
       "<Figure size 640x480 with 1 Axes>"
      ]
     },
     "metadata": {},
     "output_type": "display_data"
    },
    {
     "name": "stdout",
     "output_type": "stream",
     "text": [
      "here\n",
      "200 200\n"
     ]
    },
    {
     "name": "stderr",
     "output_type": "stream",
     "text": [
      "libpng warning: pHYs: CRC error\n"
     ]
    },
    {
     "data": {
      "image/png": "[encoded data removed]",
      "text/plain": [
       "<Figure size 640x480 with 1 Axes>"
      ]
     },
     "metadata": {},
     "output_type": "display_data"
    },
    {
     "name": "stdout",
     "output_type": "stream",
     "text": [
      "here\n",
      "200 200\n"
     ]
    },
    {
     "name": "stderr",
     "output_type": "stream",
     "text": [
      "libpng warning: pHYs: CRC error\n"
     ]
    },
    {
     "data": {
      "image/png": "[encoded data removed]",
      "text/plain": [
       "<Figure size 640x480 with 1 Axes>"
      ]
     },
     "metadata": {},
     "output_type": "display_data"
    },
    {
     "name": "stdout",
     "output_type": "stream",
     "text": [
      "here\n",
      "200 200\n"
     ]
    },
    {
     "name": "stderr",
     "output_type": "stream",
     "text": [
      "libpng warning: pHYs: CRC error\n"
     ]
    },
    {
     "data": {
      "image/png": "[encoded data removed]",
      "text/plain": [
       "<Figure size 640x480 with 1 Axes>"
      ]
     },
     "metadata": {},
     "output_type": "display_data"
    },
    {
     "name": "stdout",
     "output_type": "stream",
     "text": [
      "here\n",
      "300 200\n"
     ]
    },
    {
     "name": "stderr",
     "output_type": "stream",
     "text": [
      "libpng warning: pHYs: CRC error\n"
     ]
    },
    {
     "data": {
      "image/png": "[encoded data removed]",
      "text/plain": [
       "<Figure size 640x480 with 1 Axes>"
      ]
     },
     "metadata": {},
     "output_type": "display_data"
    },
    {
     "name": "stdout",
     "output_type": "stream",
     "text": [
      "here\n",
      "300 200\n"
     ]
    },
    {
     "name": "stderr",
     "output_type": "stream",
     "text": [
      "libpng warning: pHYs: CRC error\n"
     ]
    },
    {
     "data": {
      "image/png": "[encoded data removed]",
      "text/plain": [
       "<Figure size 640x480 with 1 Axes>"
      ]
     },
     "metadata": {},
     "output_type": "display_data"
    },
    {
     "name": "stdout",
     "output_type": "stream",
     "text": [
      "here\n",
      "300 200\n"
     ]
    },
    {
     "name": "stderr",
     "output_type": "stream",
     "text": [
      "libpng warning: pHYs: CRC error\n"
     ]
    },
    {
     "data": {
      "image/png": "[encoded data removed]",
      "text/plain": [
       "<Figure size 640x480 with 1 Axes>"
      ]
     },
     "metadata": {},
     "output_type": "display_data"
    },
    {
     "name": "stdout",
     "output_type": "stream",
     "text": [
      "here\n",
      "300 200\n"
     ]
    },
    {
     "name": "stderr",
     "output_type": "stream",
     "text": [
      "libpng warning: pHYs: CRC error\n"
     ]
    },
    {
     "data": {
      "image/png": "[encoded data removed]",
      "text/plain": [
       "<Figure size 640x480 with 1 Axes>"
      ]
     },
     "metadata": {},
     "output_type": "display_data"
    },
    {
     "name": "stdout",
     "output_type": "stream",
     "text": [
      "here\n",
      "300 200\n"
     ]
    },
    {
     "name": "stderr",
     "output_type": "stream",
     "text": [
      "libpng warning: pHYs: CRC error\n"
     ]
    },
    {
     "data": {
      "image/png": "[encoded data removed]",
      "text/plain": [
       "<Figure size 640x480 with 1 Axes>"
      ]
     },
     "metadata": {},
     "output_type": "display_data"
    },
    {
     "name": "stdout",
     "output_type": "stream",
     "text": [
      "here\n",
      "300 200\n"
     ]
    },
    {
     "name": "stderr",
     "output_type": "stream",
     "text": [
      "libpng warning: pHYs: CRC error\n"
     ]
    },
    {
     "data": {
      "image/png": "[encoded data removed]",
      "text/plain": [
       "<Figure size 640x480 with 1 Axes>"
      ]
     },
     "metadata": {},
     "output_type": "display_data"
    },
    {
     "name": "stdout",
     "output_type": "stream",
     "text": [
      "here\n"
     ]
    },
    {
     "name": "stderr",
     "output_type": "stream",
     "text": [
      "libpng warning: pHYs: CRC error\n"
     ]
    },
    {
     "name": "stdout",
     "output_type": "stream",
     "text": [
      "300 200\n"
     ]
    },
    {
     "data": {
      "image/png": "[encoded data removed]",
      "text/plain": [
       "<Figure size 640x480 with 1 Axes>"
      ]
     },
     "metadata": {},
     "output_type": "display_data"
    },
    {
     "name": "stdout",
     "output_type": "stream",
     "text": [
      "here\n",
      "300 200\n"
     ]
    },
    {
     "name": "stderr",
     "output_type": "stream",
     "text": [
      "libpng warning: pHYs: CRC error\n"
     ]
    },
    {
     "data": {
      "image/png": "[encoded data removed]",
      "text/plain": [
       "<Figure size 640x480 with 1 Axes>"
      ]
     },
     "metadata": {},
     "output_type": "display_data"
    },
    {
     "name": "stdout",
     "output_type": "stream",
     "text": [
      "here\n",
      "300 200\n"
     ]
    },
    {
     "name": "stderr",
     "output_type": "stream",
     "text": [
      "libpng warning: pHYs: CRC error\n"
     ]
    },
    {
     "data": {
      "image/png": "[encoded data removed]",
      "text/plain": [
       "<Figure size 640x480 with 1 Axes>"
      ]
     },
     "metadata": {},
     "output_type": "display_data"
    },
    {
     "name": "stdout",
     "output_type": "stream",
     "text": [
      "here\n"
     ]
    },
    {
     "name": "stderr",
     "output_type": "stream",
     "text": [
      "libpng warning: pHYs: CRC error\n"
     ]
    },
    {
     "name": "stdout",
     "output_type": "stream",
     "text": [
      "300 200\n"
     ]
    },
    {
     "data": {
      "image/png": "[encoded data removed]",
      "text/plain": [
       "<Figure size 640x480 with 1 Axes>"
      ]
     },
     "metadata": {},
     "output_type": "display_data"
    },
    {
     "name": "stdout",
     "output_type": "stream",
     "text": [
      "here\n",
      "300 200\n"
     ]
    },
    {
     "name": "stderr",
     "output_type": "stream",
     "text": [
      "libpng warning: pHYs: CRC error\n"
     ]
    },
    {
     "data": {
      "image/png": "[encoded data removed]",
      "text/plain": [
       "<Figure size 640x480 with 1 Axes>"
      ]
     },
     "metadata": {},
     "output_type": "display_data"
    },
    {
     "name": "stdout",
     "output_type": "stream",
     "text": [
      "here\n",
      "300 200\n"
     ]
    },
    {
     "name": "stderr",
     "output_type": "stream",
     "text": [
      "libpng warning: pHYs: CRC error\n"
     ]
    },
    {
     "data": {
      "image/png": "[encoded data removed]",
      "text/plain": [
       "<Figure size 640x480 with 1 Axes>"
      ]
     },
     "metadata": {},
     "output_type": "display_data"
    },
    {
     "name": "stdout",
     "output_type": "stream",
     "text": [
      "here\n",
      "300 200\n"
     ]
    },
    {
     "name": "stderr",
     "output_type": "stream",
     "text": [
      "libpng warning: pHYs: CRC error\n"
     ]
    },
    {
     "data": {
      "image/png": "[encoded data removed]",
      "text/plain": [
       "<Figure size 640x480 with 1 Axes>"
      ]
     },
     "metadata": {},
     "output_type": "display_data"
    },
    {
     "name": "stdout",
     "output_type": "stream",
     "text": [
      "here\n",
      "300 200\n"
     ]
    },
    {
     "name": "stderr",
     "output_type": "stream",
     "text": [
      "libpng warning: pHYs: CRC error\n"
     ]
    },
    {
     "data": {
      "image/png": "[encoded data removed]",
      "text/plain": [
       "<Figure size 640x480 with 1 Axes>"
      ]
     },
     "metadata": {},
     "output_type": "display_data"
    },
    {
     "name": "stdout",
     "output_type": "stream",
     "text": [
      "here\n",
      "300 200\n"
     ]
    },
    {
     "name": "stderr",
     "output_type": "stream",
     "text": [
      "libpng warning: pHYs: CRC error\n"
     ]
    },
    {
     "data": {
      "image/png": "[encoded data removed]",
      "text/plain": [
       "<Figure size 640x480 with 1 Axes>"
      ]
     },
     "metadata": {},
     "output_type": "display_data"
    },
    {
     "name": "stdout",
     "output_type": "stream",
     "text": [
      "here\n",
      "300 200\n"
     ]
    },
    {
     "name": "stderr",
     "output_type": "stream",
     "text": [
      "libpng warning: pHYs: CRC error\n"
     ]
    },
    {
     "data": {
      "image/png": "[encoded data removed]",
      "text/plain": [
       "<Figure size 640x480 with 1 Axes>"
      ]
     },
     "metadata": {},
     "output_type": "display_data"
    },
    {
     "ename": "IndexError",
     "evalue": "list index out of range",
     "output_type": "error",
     "traceback": [
      "\u001b[0;31m---------------------------------------------------------------------------\u001b[0m",
      "\u001b[0;31mIndexError\u001b[0m                                Traceback (most recent call last)",
      "Input \u001b[0;32mIn [284]\u001b[0m, in \u001b[0;36m<cell line: 27>\u001b[0;34m()\u001b[0m\n\u001b[1;32m     27\u001b[0m \u001b[38;5;28;01mfor\u001b[39;00m i \u001b[38;5;129;01min\u001b[39;00m \u001b[38;5;28mrange\u001b[39m(\u001b[38;5;241m150\u001b[39m):\n\u001b[1;32m     28\u001b[0m     image \u001b[38;5;241m=\u001b[39m np\u001b[38;5;241m.\u001b[39mzeros((\u001b[38;5;241m1024\u001b[39m, \u001b[38;5;241m1280\u001b[39m, \u001b[38;5;241m4\u001b[39m), dtype\u001b[38;5;241m=\u001b[39mnp\u001b[38;5;241m.\u001b[39muint8)  \u001b[38;5;66;03m# RGBA format\u001b[39;00m\n\u001b[0;32m---> 29\u001b[0m     png_path \u001b[38;5;241m=\u001b[39m \u001b[43mimages\u001b[49m\u001b[43m[\u001b[49m\u001b[43mi\u001b[49m\u001b[43m]\u001b[49m\n\u001b[1;32m     30\u001b[0m     jump \u001b[38;5;241m=\u001b[39m \u001b[38;5;241m100\u001b[39m\n\u001b[1;32m     31\u001b[0m     \u001b[38;5;28mprint\u001b[39m(\u001b[38;5;124m'\u001b[39m\u001b[38;5;124mhere\u001b[39m\u001b[38;5;124m'\u001b[39m)\n",
      "\u001b[0;31mIndexError\u001b[0m: list index out of range"
     ]
    }
   ],
   "source": [
    "import numpy as np\n",
    "import matplotlib.pyplot as plt\n",
    "\n",
    "start = 4\n",
    "folder_size = 150\n",
    "end = folder_size+4\n",
    "file_path = '/Users/christianjohnson/Downloads/Glare/GLARE/images'\n",
    "\n",
    "images = []\n",
    "# for i in range(folder_size):\n",
    "#     if i >= 100:\n",
    "#         name=\"/Users/christianjohnson/Downloads/Glare/testPylonImages/Basler_acA1300-200um__24681880__20240501_014715405_0\"\n",
    "#     if i >= 10:\n",
    "#         name=\"/Users/christianjohnson/Downloads/Glare/testPylonImages/Basler_acA1300-200um__24681880__20240501_014715405_00\"\n",
    "#     else:\n",
    "#         name=\"/Users/christianjohnson/Downloads/Glare/testPylonImages/Basler_acA1300-200um__24681880__20240501_014715405_000\"\n",
    "#     name+=str(i)\n",
    "#     name+=\".tiff\"\n",
    "#     images.append(name)\n",
    "\n",
    "for i in range(1,150):\n",
    "    name = file_path + \"/NOutput\" + str(i) + \".png\"\n",
    "    images.append(name) \n",
    "\n",
    "print(images)\n",
    "\n",
    "for i in range(150):\n",
    "    image = np.zeros((1024, 1280, 4), dtype=np.uint8)  # RGBA format\n",
    "    png_path = images[i]\n",
    "    jump = 100\n",
    "    print('here')\n",
    "    im = cv2.imread(png_path, cv2.IMREAD_GRAYSCALE)\n",
    "    imarray = np.array(im)\n",
    "    y,x = universal_blocking(imarray,jump)\n",
    "    print(x,y)\n",
    "    # Define the coordinates for the black square\n",
    "    top_left_x = x\n",
    "    top_left_y = y\n",
    "    bottom_right_x = top_left_x + 100\n",
    "    bottom_right_y = top_left_y + 100\n",
    "\n",
    "    # Place a black square on the image\n",
    "    image[top_left_y:bottom_right_y, top_left_x:bottom_right_x, 0:3] = 0\n",
    "    image[top_left_y:bottom_right_y, top_left_x:bottom_right_x, 3] = 255  # Alpha channel to make it opaque\n",
    "    # Display the image\n",
    "    plt.imshow(image, cmap='gray')\n",
    "    plt.axis('off')\n",
    "    plt.savefig(f\"test{i}.png\")\n",
    "    plt.show()\n",
    "    #im = Image.fromarray(image)\n",
    "    #im.save(f\"testingim{i}.jpg\") \n",
    "\n",
    "# # Create a blank image with transparent background\n",
    "# image = np.zeros((1024, 1280, 4), dtype=np.uint8)  # RGBA format\n",
    "\n",
    "\n",
    "\n",
    "# tiff_path = '/Users/christianjohnson/Downloads/Glare/GLARE/images/NOutput136.png'\n",
    "# jump = 100\n",
    "\n",
    "# im = cv2.imread(images[50], cv2.IMREAD_GRAYSCALE)\n",
    "\n",
    "# imarray = np.array(im)\n",
    "# print(imarray)\n",
    "# show(imarray, cmap='gray')\n",
    "# y,x = universal_blocking(imarray,jump)\n",
    "# print(x,y)\n",
    "# # Define the coordinates for the black square\n",
    "# top_left_x = x\n",
    "# top_left_y = y\n",
    "# bottom_right_x = top_left_x + 100\n",
    "# bottom_right_y = top_left_y + 100\n",
    "\n",
    "# # Place a black square on the image\n",
    "# image[top_left_y:bottom_right_y, top_left_x:bottom_right_x, 0:3] = 0  # RGB values for black\n",
    "# image[top_left_y:bottom_right_y, top_left_x:bottom_right_x, 3] = 255  # Alpha channel to make it opaque\n",
    "\n",
    "# # Display the image\n",
    "# plt.imshow(image)\n",
    "# plt.axis('off')\n",
    "# plt.show()"
   ]
  },
  {
   "cell_type": "code",
   "execution_count": 291,
   "metadata": {},
   "outputs": [
    {
     "name": "stdout",
     "output_type": "stream",
     "text": [
      "/Users/christianjohnson/Downloads/Glare/GLARE/blockedFolder/test0.png\n",
      "/Users/christianjohnson/Downloads/Glare/GLARE/blockedFolder/test1.png\n",
      "/Users/christianjohnson/Downloads/Glare/GLARE/blockedFolder/test2.png\n",
      "/Users/christianjohnson/Downloads/Glare/GLARE/blockedFolder/test3.png\n",
      "/Users/christianjohnson/Downloads/Glare/GLARE/blockedFolder/test4.png\n",
      "/Users/christianjohnson/Downloads/Glare/GLARE/blockedFolder/test5.png\n",
      "/Users/christianjohnson/Downloads/Glare/GLARE/blockedFolder/test6.png\n",
      "/Users/christianjohnson/Downloads/Glare/GLARE/blockedFolder/test7.png\n",
      "/Users/christianjohnson/Downloads/Glare/GLARE/blockedFolder/test8.png\n",
      "/Users/christianjohnson/Downloads/Glare/GLARE/blockedFolder/test9.png\n",
      "/Users/christianjohnson/Downloads/Glare/GLARE/blockedFolder/test10.png\n",
      "/Users/christianjohnson/Downloads/Glare/GLARE/blockedFolder/test11.png\n",
      "/Users/christianjohnson/Downloads/Glare/GLARE/blockedFolder/test12.png\n",
      "/Users/christianjohnson/Downloads/Glare/GLARE/blockedFolder/test13.png\n",
      "/Users/christianjohnson/Downloads/Glare/GLARE/blockedFolder/test14.png\n",
      "/Users/christianjohnson/Downloads/Glare/GLARE/blockedFolder/test15.png\n",
      "/Users/christianjohnson/Downloads/Glare/GLARE/blockedFolder/test16.png\n",
      "/Users/christianjohnson/Downloads/Glare/GLARE/blockedFolder/test17.png\n",
      "/Users/christianjohnson/Downloads/Glare/GLARE/blockedFolder/test18.png\n",
      "/Users/christianjohnson/Downloads/Glare/GLARE/blockedFolder/test19.png\n",
      "/Users/christianjohnson/Downloads/Glare/GLARE/blockedFolder/test20.png\n",
      "/Users/christianjohnson/Downloads/Glare/GLARE/blockedFolder/test21.png\n",
      "/Users/christianjohnson/Downloads/Glare/GLARE/blockedFolder/test22.png\n",
      "/Users/christianjohnson/Downloads/Glare/GLARE/blockedFolder/test23.png\n",
      "/Users/christianjohnson/Downloads/Glare/GLARE/blockedFolder/test24.png\n",
      "/Users/christianjohnson/Downloads/Glare/GLARE/blockedFolder/test25.png\n",
      "/Users/christianjohnson/Downloads/Glare/GLARE/blockedFolder/test26.png\n",
      "/Users/christianjohnson/Downloads/Glare/GLARE/blockedFolder/test27.png\n",
      "/Users/christianjohnson/Downloads/Glare/GLARE/blockedFolder/test28.png\n",
      "/Users/christianjohnson/Downloads/Glare/GLARE/blockedFolder/test29.png\n",
      "/Users/christianjohnson/Downloads/Glare/GLARE/blockedFolder/test30.png\n",
      "/Users/christianjohnson/Downloads/Glare/GLARE/blockedFolder/test31.png\n",
      "/Users/christianjohnson/Downloads/Glare/GLARE/blockedFolder/test32.png\n",
      "/Users/christianjohnson/Downloads/Glare/GLARE/blockedFolder/test33.png\n",
      "/Users/christianjohnson/Downloads/Glare/GLARE/blockedFolder/test34.png\n",
      "/Users/christianjohnson/Downloads/Glare/GLARE/blockedFolder/test35.png\n",
      "/Users/christianjohnson/Downloads/Glare/GLARE/blockedFolder/test36.png\n",
      "/Users/christianjohnson/Downloads/Glare/GLARE/blockedFolder/test37.png\n",
      "/Users/christianjohnson/Downloads/Glare/GLARE/blockedFolder/test38.png\n",
      "/Users/christianjohnson/Downloads/Glare/GLARE/blockedFolder/test39.png\n",
      "/Users/christianjohnson/Downloads/Glare/GLARE/blockedFolder/test40.png\n",
      "/Users/christianjohnson/Downloads/Glare/GLARE/blockedFolder/test41.png\n",
      "/Users/christianjohnson/Downloads/Glare/GLARE/blockedFolder/test42.png\n",
      "/Users/christianjohnson/Downloads/Glare/GLARE/blockedFolder/test43.png\n",
      "/Users/christianjohnson/Downloads/Glare/GLARE/blockedFolder/test44.png\n",
      "/Users/christianjohnson/Downloads/Glare/GLARE/blockedFolder/test45.png\n",
      "/Users/christianjohnson/Downloads/Glare/GLARE/blockedFolder/test46.png\n",
      "/Users/christianjohnson/Downloads/Glare/GLARE/blockedFolder/test47.png\n",
      "/Users/christianjohnson/Downloads/Glare/GLARE/blockedFolder/test48.png\n",
      "/Users/christianjohnson/Downloads/Glare/GLARE/blockedFolder/test49.png\n",
      "/Users/christianjohnson/Downloads/Glare/GLARE/blockedFolder/test50.png\n",
      "/Users/christianjohnson/Downloads/Glare/GLARE/blockedFolder/test51.png\n",
      "/Users/christianjohnson/Downloads/Glare/GLARE/blockedFolder/test52.png\n",
      "/Users/christianjohnson/Downloads/Glare/GLARE/blockedFolder/test53.png\n",
      "/Users/christianjohnson/Downloads/Glare/GLARE/blockedFolder/test54.png\n",
      "/Users/christianjohnson/Downloads/Glare/GLARE/blockedFolder/test55.png\n",
      "/Users/christianjohnson/Downloads/Glare/GLARE/blockedFolder/test56.png\n",
      "/Users/christianjohnson/Downloads/Glare/GLARE/blockedFolder/test57.png\n",
      "/Users/christianjohnson/Downloads/Glare/GLARE/blockedFolder/test58.png\n",
      "/Users/christianjohnson/Downloads/Glare/GLARE/blockedFolder/test59.png\n",
      "/Users/christianjohnson/Downloads/Glare/GLARE/blockedFolder/test60.png\n",
      "/Users/christianjohnson/Downloads/Glare/GLARE/blockedFolder/test61.png\n",
      "/Users/christianjohnson/Downloads/Glare/GLARE/blockedFolder/test62.png\n",
      "/Users/christianjohnson/Downloads/Glare/GLARE/blockedFolder/test63.png\n",
      "/Users/christianjohnson/Downloads/Glare/GLARE/blockedFolder/test64.png\n",
      "/Users/christianjohnson/Downloads/Glare/GLARE/blockedFolder/test65.png\n",
      "/Users/christianjohnson/Downloads/Glare/GLARE/blockedFolder/test66.png\n",
      "/Users/christianjohnson/Downloads/Glare/GLARE/blockedFolder/test67.png\n",
      "/Users/christianjohnson/Downloads/Glare/GLARE/blockedFolder/test68.png\n",
      "/Users/christianjohnson/Downloads/Glare/GLARE/blockedFolder/test69.png\n",
      "/Users/christianjohnson/Downloads/Glare/GLARE/blockedFolder/test70.png\n",
      "/Users/christianjohnson/Downloads/Glare/GLARE/blockedFolder/test71.png\n",
      "/Users/christianjohnson/Downloads/Glare/GLARE/blockedFolder/test72.png\n",
      "/Users/christianjohnson/Downloads/Glare/GLARE/blockedFolder/test73.png\n",
      "/Users/christianjohnson/Downloads/Glare/GLARE/blockedFolder/test74.png\n",
      "/Users/christianjohnson/Downloads/Glare/GLARE/blockedFolder/test75.png\n",
      "/Users/christianjohnson/Downloads/Glare/GLARE/blockedFolder/test76.png\n",
      "/Users/christianjohnson/Downloads/Glare/GLARE/blockedFolder/test77.png\n",
      "/Users/christianjohnson/Downloads/Glare/GLARE/blockedFolder/test78.png\n",
      "/Users/christianjohnson/Downloads/Glare/GLARE/blockedFolder/test79.png\n",
      "/Users/christianjohnson/Downloads/Glare/GLARE/blockedFolder/test80.png\n",
      "/Users/christianjohnson/Downloads/Glare/GLARE/blockedFolder/test81.png\n",
      "/Users/christianjohnson/Downloads/Glare/GLARE/blockedFolder/test82.png\n",
      "/Users/christianjohnson/Downloads/Glare/GLARE/blockedFolder/test83.png\n",
      "/Users/christianjohnson/Downloads/Glare/GLARE/blockedFolder/test84.png\n",
      "/Users/christianjohnson/Downloads/Glare/GLARE/blockedFolder/test85.png\n",
      "/Users/christianjohnson/Downloads/Glare/GLARE/blockedFolder/test86.png\n",
      "/Users/christianjohnson/Downloads/Glare/GLARE/blockedFolder/test87.png\n",
      "/Users/christianjohnson/Downloads/Glare/GLARE/blockedFolder/test88.png\n",
      "/Users/christianjohnson/Downloads/Glare/GLARE/blockedFolder/test89.png\n",
      "/Users/christianjohnson/Downloads/Glare/GLARE/blockedFolder/test90.png\n",
      "/Users/christianjohnson/Downloads/Glare/GLARE/blockedFolder/test91.png\n",
      "/Users/christianjohnson/Downloads/Glare/GLARE/blockedFolder/test92.png\n",
      "/Users/christianjohnson/Downloads/Glare/GLARE/blockedFolder/test93.png\n",
      "/Users/christianjohnson/Downloads/Glare/GLARE/blockedFolder/test94.png\n",
      "/Users/christianjohnson/Downloads/Glare/GLARE/blockedFolder/test95.png\n",
      "/Users/christianjohnson/Downloads/Glare/GLARE/blockedFolder/test96.png\n",
      "/Users/christianjohnson/Downloads/Glare/GLARE/blockedFolder/test97.png\n",
      "/Users/christianjohnson/Downloads/Glare/GLARE/blockedFolder/test98.png\n",
      "/Users/christianjohnson/Downloads/Glare/GLARE/blockedFolder/test99.png\n",
      "/Users/christianjohnson/Downloads/Glare/GLARE/blockedFolder/test100.png\n",
      "/Users/christianjohnson/Downloads/Glare/GLARE/blockedFolder/test101.png\n",
      "/Users/christianjohnson/Downloads/Glare/GLARE/blockedFolder/test102.png\n",
      "/Users/christianjohnson/Downloads/Glare/GLARE/blockedFolder/test103.png\n",
      "/Users/christianjohnson/Downloads/Glare/GLARE/blockedFolder/test104.png\n",
      "/Users/christianjohnson/Downloads/Glare/GLARE/blockedFolder/test105.png\n",
      "/Users/christianjohnson/Downloads/Glare/GLARE/blockedFolder/test106.png\n",
      "/Users/christianjohnson/Downloads/Glare/GLARE/blockedFolder/test107.png\n",
      "/Users/christianjohnson/Downloads/Glare/GLARE/blockedFolder/test108.png\n",
      "/Users/christianjohnson/Downloads/Glare/GLARE/blockedFolder/test109.png\n",
      "/Users/christianjohnson/Downloads/Glare/GLARE/blockedFolder/test110.png\n",
      "/Users/christianjohnson/Downloads/Glare/GLARE/blockedFolder/test111.png\n",
      "/Users/christianjohnson/Downloads/Glare/GLARE/blockedFolder/test112.png\n",
      "/Users/christianjohnson/Downloads/Glare/GLARE/blockedFolder/test113.png\n",
      "/Users/christianjohnson/Downloads/Glare/GLARE/blockedFolder/test114.png\n",
      "/Users/christianjohnson/Downloads/Glare/GLARE/blockedFolder/test115.png\n",
      "/Users/christianjohnson/Downloads/Glare/GLARE/blockedFolder/test116.png\n",
      "/Users/christianjohnson/Downloads/Glare/GLARE/blockedFolder/test117.png\n",
      "/Users/christianjohnson/Downloads/Glare/GLARE/blockedFolder/test118.png\n",
      "/Users/christianjohnson/Downloads/Glare/GLARE/blockedFolder/test119.png\n",
      "/Users/christianjohnson/Downloads/Glare/GLARE/blockedFolder/test120.png\n",
      "/Users/christianjohnson/Downloads/Glare/GLARE/blockedFolder/test121.png\n",
      "/Users/christianjohnson/Downloads/Glare/GLARE/blockedFolder/test122.png\n",
      "/Users/christianjohnson/Downloads/Glare/GLARE/blockedFolder/test123.png\n",
      "/Users/christianjohnson/Downloads/Glare/GLARE/blockedFolder/test124.png\n",
      "/Users/christianjohnson/Downloads/Glare/GLARE/blockedFolder/test125.png\n",
      "/Users/christianjohnson/Downloads/Glare/GLARE/blockedFolder/test126.png\n",
      "/Users/christianjohnson/Downloads/Glare/GLARE/blockedFolder/test127.png\n",
      "/Users/christianjohnson/Downloads/Glare/GLARE/blockedFolder/test128.png\n",
      "/Users/christianjohnson/Downloads/Glare/GLARE/blockedFolder/test129.png\n",
      "/Users/christianjohnson/Downloads/Glare/GLARE/blockedFolder/test130.png\n",
      "/Users/christianjohnson/Downloads/Glare/GLARE/blockedFolder/test131.png\n",
      "/Users/christianjohnson/Downloads/Glare/GLARE/blockedFolder/test132.png\n",
      "/Users/christianjohnson/Downloads/Glare/GLARE/blockedFolder/test133.png\n",
      "/Users/christianjohnson/Downloads/Glare/GLARE/blockedFolder/test134.png\n",
      "/Users/christianjohnson/Downloads/Glare/GLARE/blockedFolder/test135.png\n",
      "/Users/christianjohnson/Downloads/Glare/GLARE/blockedFolder/test136.png\n",
      "/Users/christianjohnson/Downloads/Glare/GLARE/blockedFolder/test137.png\n",
      "/Users/christianjohnson/Downloads/Glare/GLARE/blockedFolder/test138.png\n",
      "/Users/christianjohnson/Downloads/Glare/GLARE/blockedFolder/test139.png\n",
      "/Users/christianjohnson/Downloads/Glare/GLARE/blockedFolder/test140.png\n",
      "/Users/christianjohnson/Downloads/Glare/GLARE/blockedFolder/test141.png\n",
      "/Users/christianjohnson/Downloads/Glare/GLARE/blockedFolder/test142.png\n",
      "/Users/christianjohnson/Downloads/Glare/GLARE/blockedFolder/test143.png\n",
      "/Users/christianjohnson/Downloads/Glare/GLARE/blockedFolder/test144.png\n",
      "/Users/christianjohnson/Downloads/Glare/GLARE/blockedFolder/test145.png\n",
      "/Users/christianjohnson/Downloads/Glare/GLARE/blockedFolder/test146.png\n",
      "/Users/christianjohnson/Downloads/Glare/GLARE/blockedFolder/test147.png\n"
     ]
    }
   ],
   "source": [
    "# Conversion of images to video\n",
    "\n",
    "import cv2\n",
    "import os\n",
    "\n",
    "folder_size = 123\n",
    "\n",
    "\n",
    "def images_to_video2(image_folder, video_name, fps):\n",
    "    #images = [img for img in os.listdir(image_folder) if img.endswith(\".tiff\")]\n",
    "\n",
    "    images = []\n",
    "    for i in range(148):\n",
    "        name = image_folder + \"/test\" + str(i) + \".png\"\n",
    "        print(name)\n",
    "        images.append(name)\n",
    "        \n",
    "    frame = cv2.imread(os.path.join(image_folder, images[0]))\n",
    "    height, width, layer = frame.shape\n",
    "    video = cv2.VideoWriter(video_name, cv2.VideoWriter_fourcc(*'mp4v'), fps, (width, height))\n",
    "\n",
    "    for image in images:\n",
    "        video.write(cv2.imread(os.path.join(image_folder, image)))\n",
    "\n",
    "    cv2.destroyAllWindows()\n",
    "    video.release()\n",
    "\n",
    "# Provide the path to the folder containing images, desired output video name, and frame rate\n",
    "image_folder = '/Users/christianjohnson/Downloads/Glare/GLARE/blockedFolder'\n",
    "video_name = 'demo3GLARE.mp4'\n",
    "fps = 1  # Adjust the frame rate as per your requirement\n",
    "\n",
    "images_to_video2(image_folder, video_name, 10)"
   ]
  },
  {
   "cell_type": "code",
   "execution_count": 238,
   "metadata": {},
   "outputs": [
    {
     "name": "stdout",
     "output_type": "stream",
     "text": [
      "/Users/christianjohnson/Downloads/Glare/basler_data/Basler_acA1300-200um__24681880__20240501_014715405_0100.tiff\n",
      "/Users/christianjohnson/Downloads/Glare/basler_data/Basler_acA1300-200um__24681880__20240501_014715405_0101.tiff\n",
      "/Users/christianjohnson/Downloads/Glare/basler_data/Basler_acA1300-200um__24681880__20240501_014715405_0102.tiff\n",
      "/Users/christianjohnson/Downloads/Glare/basler_data/Basler_acA1300-200um__24681880__20240501_014715405_0103.tiff\n",
      "/Users/christianjohnson/Downloads/Glare/basler_data/Basler_acA1300-200um__24681880__20240501_014715405_0104.tiff\n",
      "/Users/christianjohnson/Downloads/Glare/basler_data/Basler_acA1300-200um__24681880__20240501_014715405_0105.tiff\n",
      "/Users/christianjohnson/Downloads/Glare/basler_data/Basler_acA1300-200um__24681880__20240501_014715405_0106.tiff\n",
      "/Users/christianjohnson/Downloads/Glare/basler_data/Basler_acA1300-200um__24681880__20240501_014715405_0107.tiff\n",
      "/Users/christianjohnson/Downloads/Glare/basler_data/Basler_acA1300-200um__24681880__20240501_014715405_0108.tiff\n",
      "/Users/christianjohnson/Downloads/Glare/basler_data/Basler_acA1300-200um__24681880__20240501_014715405_0109.tiff\n",
      "/Users/christianjohnson/Downloads/Glare/basler_data/Basler_acA1300-200um__24681880__20240501_014715405_0110.tiff\n",
      "/Users/christianjohnson/Downloads/Glare/basler_data/Basler_acA1300-200um__24681880__20240501_014715405_0111.tiff\n",
      "/Users/christianjohnson/Downloads/Glare/basler_data/Basler_acA1300-200um__24681880__20240501_014715405_0112.tiff\n",
      "/Users/christianjohnson/Downloads/Glare/basler_data/Basler_acA1300-200um__24681880__20240501_014715405_0113.tiff\n",
      "/Users/christianjohnson/Downloads/Glare/basler_data/Basler_acA1300-200um__24681880__20240501_014715405_0114.tiff\n",
      "/Users/christianjohnson/Downloads/Glare/basler_data/Basler_acA1300-200um__24681880__20240501_014715405_0115.tiff\n",
      "/Users/christianjohnson/Downloads/Glare/basler_data/Basler_acA1300-200um__24681880__20240501_014715405_0116.tiff\n",
      "/Users/christianjohnson/Downloads/Glare/basler_data/Basler_acA1300-200um__24681880__20240501_014715405_0117.tiff\n",
      "/Users/christianjohnson/Downloads/Glare/basler_data/Basler_acA1300-200um__24681880__20240501_014715405_0118.tiff\n",
      "/Users/christianjohnson/Downloads/Glare/basler_data/Basler_acA1300-200um__24681880__20240501_014715405_0119.tiff\n",
      "/Users/christianjohnson/Downloads/Glare/basler_data/Basler_acA1300-200um__24681880__20240501_014715405_0120.tiff\n",
      "/Users/christianjohnson/Downloads/Glare/basler_data/Basler_acA1300-200um__24681880__20240501_014715405_0121.tiff\n",
      "/Users/christianjohnson/Downloads/Glare/basler_data/Basler_acA1300-200um__24681880__20240501_014715405_0122.tiff\n",
      "/Users/christianjohnson/Downloads/Glare/basler_data/Basler_acA1300-200um__24681880__20240501_014715405_0123.tiff\n",
      "/Users/christianjohnson/Downloads/Glare/basler_data/Basler_acA1300-200um__24681880__20240501_014715405_0124.tiff\n",
      "/Users/christianjohnson/Downloads/Glare/basler_data/Basler_acA1300-200um__24681880__20240501_014715405_0125.tiff\n",
      "/Users/christianjohnson/Downloads/Glare/basler_data/Basler_acA1300-200um__24681880__20240501_014715405_0126.tiff\n",
      "/Users/christianjohnson/Downloads/Glare/basler_data/Basler_acA1300-200um__24681880__20240501_014715405_0127.tiff\n",
      "/Users/christianjohnson/Downloads/Glare/basler_data/Basler_acA1300-200um__24681880__20240501_014715405_0128.tiff\n",
      "/Users/christianjohnson/Downloads/Glare/basler_data/Basler_acA1300-200um__24681880__20240501_014715405_0129.tiff\n",
      "/Users/christianjohnson/Downloads/Glare/basler_data/Basler_acA1300-200um__24681880__20240501_014715405_0130.tiff\n",
      "/Users/christianjohnson/Downloads/Glare/basler_data/Basler_acA1300-200um__24681880__20240501_014715405_0131.tiff\n",
      "/Users/christianjohnson/Downloads/Glare/basler_data/Basler_acA1300-200um__24681880__20240501_014715405_0132.tiff\n",
      "/Users/christianjohnson/Downloads/Glare/basler_data/Basler_acA1300-200um__24681880__20240501_014715405_0133.tiff\n",
      "/Users/christianjohnson/Downloads/Glare/basler_data/Basler_acA1300-200um__24681880__20240501_014715405_0134.tiff\n",
      "/Users/christianjohnson/Downloads/Glare/basler_data/Basler_acA1300-200um__24681880__20240501_014715405_0135.tiff\n",
      "/Users/christianjohnson/Downloads/Glare/basler_data/Basler_acA1300-200um__24681880__20240501_014715405_0136.tiff\n",
      "/Users/christianjohnson/Downloads/Glare/basler_data/Basler_acA1300-200um__24681880__20240501_014715405_0137.tiff\n",
      "/Users/christianjohnson/Downloads/Glare/basler_data/Basler_acA1300-200um__24681880__20240501_014715405_0138.tiff\n",
      "/Users/christianjohnson/Downloads/Glare/basler_data/Basler_acA1300-200um__24681880__20240501_014715405_0139.tiff\n",
      "/Users/christianjohnson/Downloads/Glare/basler_data/Basler_acA1300-200um__24681880__20240501_014715405_0140.tiff\n",
      "/Users/christianjohnson/Downloads/Glare/basler_data/Basler_acA1300-200um__24681880__20240501_014715405_0141.tiff\n",
      "/Users/christianjohnson/Downloads/Glare/basler_data/Basler_acA1300-200um__24681880__20240501_014715405_0142.tiff\n",
      "/Users/christianjohnson/Downloads/Glare/basler_data/Basler_acA1300-200um__24681880__20240501_014715405_0143.tiff\n",
      "/Users/christianjohnson/Downloads/Glare/basler_data/Basler_acA1300-200um__24681880__20240501_014715405_0144.tiff\n",
      "/Users/christianjohnson/Downloads/Glare/basler_data/Basler_acA1300-200um__24681880__20240501_014715405_0145.tiff\n",
      "/Users/christianjohnson/Downloads/Glare/basler_data/Basler_acA1300-200um__24681880__20240501_014715405_0146.tiff\n",
      "/Users/christianjohnson/Downloads/Glare/basler_data/Basler_acA1300-200um__24681880__20240501_014715405_0147.tiff\n",
      "/Users/christianjohnson/Downloads/Glare/basler_data/Basler_acA1300-200um__24681880__20240501_014715405_0148.tiff\n",
      "/Users/christianjohnson/Downloads/Glare/basler_data/Basler_acA1300-200um__24681880__20240501_014715405_0149.tiff\n",
      "/Users/christianjohnson/Downloads/Glare/basler_data/Basler_acA1300-200um__24681880__20240501_014715405_0150.tiff\n",
      "/Users/christianjohnson/Downloads/Glare/basler_data/Basler_acA1300-200um__24681880__20240501_014715405_0151.tiff\n",
      "/Users/christianjohnson/Downloads/Glare/basler_data/Basler_acA1300-200um__24681880__20240501_014715405_0152.tiff\n",
      "/Users/christianjohnson/Downloads/Glare/basler_data/Basler_acA1300-200um__24681880__20240501_014715405_0153.tiff\n"
     ]
    }
   ],
   "source": [
    "import aspose.words as aw\n",
    "\n",
    "\n",
    "start = 100\n",
    "end = 150+4\n",
    "#end=19\n",
    "images = []\n",
    "for i in range(start, end):\n",
    "    if i >= 100:\n",
    "        name=\"/Users/christianjohnson/Downloads/Glare/basler_data/Basler_acA1300-200um__24681880__20240501_014715405_0\"\n",
    "    elif i > 10:\n",
    "        name=\"/Users/christianjohnson/Downloads/Glare/basler_data/Basler_acA1300-200um__24681880__20240501_014715405_00\"\n",
    "\n",
    "    else:\n",
    "        name=\"/Users/christianjohnson/Downloads/Glare/basler_data/Basler_acA1300-200um__24681880__20240501_014715405_000\"\n",
    "\n",
    "    name+=str(i)\n",
    "    name+=\".tiff\"\n",
    "    images.append(name)\n",
    "#for i in range(folder_size):\n",
    "    \n",
    "doc = aw.Document()\n",
    "builder = aw.DocumentBuilder(doc)\n",
    "#fileNames = images\n",
    "counter =1+96\n",
    "for img in images:\n",
    "    print(img)\n",
    "    outname=\"NOutput\"\n",
    "    outname+=str(counter)\n",
    "    outname+=\".png\"\n",
    "    \n",
    "    \n",
    "    #fileNames=img\n",
    "    #shapes = [builder.insert_image(fileName) for fileName in fileNames]\n",
    "    shape = builder.insert_image(img)\n",
    "    shape.get_shape_renderer().save(outname, aw.saving.ImageSaveOptions(aw.SaveFormat.PNG))\n",
    "    # Calculate the maximum width and height and update page settings \n",
    "    # to crop the document to fit the size of the pictures.\n",
    "    # pageSetup = builder.page_setup\n",
    "    # pageSetup.page_width = max(shape.width for shape in shapes)\n",
    "    # pageSetup.page_height = sum(shape.height for shape in shapes)\n",
    "    # pageSetup.top_margin = 0\n",
    "    # pageSetup.left_margin = 0\n",
    "    # pageSetup.bottom_margin = 0\n",
    "    # pageSetup.right_margin = 0\n",
    "\n",
    "    #doc.save(outname)\n",
    "    counter+=1\n",
    "    #/Users/christianjohnson/Downloads/Glare/basler_data/Basler_acA1300-200um__24681880__20240501_014715405_0004.tiff"
   ]
  }
 ],
 "metadata": {
  "kernelspec": {
   "display_name": "Python 3",
   "language": "python",
   "name": "python3"
  },
  "language_info": {
   "codemirror_mode": {
    "name": "ipython",
    "version": 3
   },
   "file_extension": ".py",
   "mimetype": "text/x-python",
   "name": "python",
   "nbconvert_exporter": "python",
   "pygments_lexer": "ipython3",
   "version": "3.10.6"
  }
 },
 "nbformat": 4,
 "nbformat_minor": 2
}
